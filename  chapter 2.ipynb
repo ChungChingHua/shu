{
 "cells": [
  {
   "cell_type": "code",
   "execution_count": 1,
   "metadata": {},
   "outputs": [],
   "source": [
    "print(12345)"
   ]
  },
  {
   "cell_type": "code",
   "execution_count": 2,
   "metadata": {},
   "outputs": [],
   "source": [
    "print(123.456)"
   ]
  },
  {
   "cell_type": "code",
   "execution_count": 3,
   "metadata": {},
   "outputs": [],
   "source": [
    "print('learning pythin now!')"
   ]
  },
  {
   "cell_type": "code",
   "execution_count": 4,
   "metadata": {},
   "outputs": [],
   "source": [
    "print('pythin is fun ')\n",
    "print ('let\\'s go')"
   ]
  },
  {
   "cell_type": "code",
   "execution_count": 5,
   "metadata": {},
   "outputs": [
    {
     "name": "stdout",
     "output_type": "stream",
     "text": [
      "\\n is skip a line\n"
     ]
    }
   ],
   "source": [
    "print('\\\\n is skip a line')"
   ]
  },
  {
   "cell_type": "code",
   "execution_count": 6,
   "metadata": {},
   "outputs": [
    {
     "name": "stdout",
     "output_type": "stream",
     "text": [
      "learning pythin now!\n",
      "pythin is fun\n"
     ]
    }
   ],
   "source": [
    "print('learning pythin now!\\npythin is fun')"
   ]
  },
  {
   "cell_type": "code",
   "execution_count": 7,
   "metadata": {},
   "outputs": [
    {
     "name": "stdout",
     "output_type": "stream",
     "text": [
      "|\thello,world|\n"
     ]
    }
   ],
   "source": [
    "print('|\\thello,world|')"
   ]
  },
  {
   "cell_type": "code",
   "execution_count": 8,
   "metadata": {},
   "outputs": [
    {
     "name": "stdout",
     "output_type": "stream",
     "text": [
      "|hello, \tworld|\n"
     ]
    }
   ],
   "source": [
    "print('|hello, \\tworld|') "
   ]
  },
  {
   "cell_type": "code",
   "execution_count": 9,
   "metadata": {},
   "outputs": [
    {
     "name": "stdout",
     "output_type": "stream",
     "text": [
      "\n",
      "is skip a line \n"
     ]
    }
   ],
   "source": [
    "print('\\nis skip a line ')"
   ]
  },
  {
   "cell_type": "code",
   "execution_count": 10,
   "metadata": {},
   "outputs": [
    {
     "name": "stdout",
     "output_type": "stream",
     "text": [
      "'hello,everynoe'\n"
     ]
    }
   ],
   "source": [
    "print('\\'hello,everynoe\\'')"
   ]
  },
  {
   "cell_type": "code",
   "execution_count": 11,
   "metadata": {},
   "outputs": [
    {
     "name": "stdout",
     "output_type": "stream",
     "text": [
      "radius= 12\n"
     ]
    }
   ],
   "source": [
    "print('radius=',12)"
   ]
  },
  {
   "cell_type": "code",
   "execution_count": 12,
   "metadata": {},
   "outputs": [
    {
     "name": "stdout",
     "output_type": "stream",
     "text": [
      "hello,\n",
      "world\n"
     ]
    }
   ],
   "source": [
    "print('hello,')\n",
    "print('world')"
   ]
  },
  {
   "cell_type": "code",
   "execution_count": 13,
   "metadata": {},
   "outputs": [
    {
     "name": "stdout",
     "output_type": "stream",
     "text": [
      "hello,world\n"
     ]
    }
   ],
   "source": [
    "print('hello,',end='')\n",
    "print('world')"
   ]
  },
  {
   "cell_type": "code",
   "execution_count": 14,
   "metadata": {},
   "outputs": [
    {
     "name": "stdout",
     "output_type": "stream",
     "text": [
      "Hello, ***world\n"
     ]
    }
   ],
   "source": [
    "print(\"Hello, \", end=\"***\")\n",
    "print(\"world\")"
   ]
  },
  {
   "cell_type": "code",
   "execution_count": 15,
   "metadata": {},
   "outputs": [
    {
     "name": "stdout",
     "output_type": "stream",
     "text": [
      "***Hello,world***\n",
      "hello,python\n",
      "excellent\n"
     ]
    }
   ],
   "source": [
    "print(\"***Hello,world\", end=\"***\")\n",
    "print(\"\")\n",
    "print('hello,python')\n",
    "print('excellent')"
   ]
  },
  {
   "cell_type": "code",
   "execution_count": 16,
   "metadata": {},
   "outputs": [
    {
     "name": "stdout",
     "output_type": "stream",
     "text": [
      "     100\n"
     ]
    }
   ],
   "source": [
    "print(format(100,'8d'))"
   ]
  },
  {
   "cell_type": "code",
   "execution_count": 17,
   "metadata": {},
   "outputs": [
    {
     "name": "stdout",
     "output_type": "stream",
     "text": [
      "100000\n"
     ]
    }
   ],
   "source": [
    "print(format(100000,'3d'))"
   ]
  },
  {
   "cell_type": "code",
   "execution_count": 18,
   "metadata": {},
   "outputs": [
    {
     "name": "stdout",
     "output_type": "stream",
     "text": [
      "      64\n"
     ]
    }
   ],
   "source": [
    "print(format(100,'8x'))"
   ]
  },
  {
   "cell_type": "code",
   "execution_count": 19,
   "metadata": {},
   "outputs": [
    {
     "name": "stdout",
     "output_type": "stream",
     "text": [
      "     144\n"
     ]
    }
   ],
   "source": [
    "print(format(100,'8o'))"
   ]
  },
  {
   "cell_type": "code",
   "execution_count": 20,
   "metadata": {},
   "outputs": [
    {
     "name": "stdout",
     "output_type": "stream",
     "text": [
      " 1100100\n"
     ]
    }
   ],
   "source": [
    "print(format(100,'8b'))"
   ]
  },
  {
   "cell_type": "code",
   "execution_count": 21,
   "metadata": {},
   "outputs": [
    {
     "name": "stdout",
     "output_type": "stream",
     "text": [
      "23.89%\n"
     ]
    }
   ],
   "source": [
    "print(format(0.2389,'6.2%'))"
   ]
  },
  {
   "cell_type": "code",
   "execution_count": 22,
   "metadata": {},
   "outputs": [
    {
     "name": "stdout",
     "output_type": "stream",
     "text": [
      "  123.46\n"
     ]
    }
   ],
   "source": [
    "print(format(123.456,'8.2f'))"
   ]
  },
  {
   "cell_type": "code",
   "execution_count": 23,
   "metadata": {},
   "outputs": [
    {
     "name": "stdout",
     "output_type": "stream",
     "text": [
      "python is fun  \n"
     ]
    }
   ],
   "source": [
    "print(format('python is fun','15s'))"
   ]
  },
  {
   "cell_type": "code",
   "execution_count": 24,
   "metadata": {},
   "outputs": [
    {
     "name": "stdout",
     "output_type": "stream",
     "text": [
      "  python is fun\n"
     ]
    }
   ],
   "source": [
    "print(format('python is fun','>15s'))"
   ]
  },
  {
   "cell_type": "code",
   "execution_count": 25,
   "metadata": {},
   "outputs": [
    {
     "name": "stdout",
     "output_type": "stream",
     "text": [
      "     12345\n"
     ]
    }
   ],
   "source": [
    "print(format(12345,'10d'))"
   ]
  },
  {
   "cell_type": "code",
   "execution_count": 26,
   "metadata": {},
   "outputs": [
    {
     "name": "stdout",
     "output_type": "stream",
     "text": [
      "12345     \n"
     ]
    }
   ],
   "source": [
    "print(format(12345,'<10d'))"
   ]
  },
  {
   "cell_type": "code",
   "execution_count": 27,
   "metadata": {},
   "outputs": [
    {
     "name": "stdout",
     "output_type": "stream",
     "text": [
      "  12345   \n"
     ]
    }
   ],
   "source": [
    "print(format(12345,'^10d'))"
   ]
  },
  {
   "cell_type": "code",
   "execution_count": 28,
   "metadata": {},
   "outputs": [
    {
     "name": "stdout",
     "output_type": "stream",
     "text": [
      "12345 12 1234567\n"
     ]
    }
   ],
   "source": [
    "print(12345,12,1234567)"
   ]
  },
  {
   "cell_type": "code",
   "execution_count": 29,
   "metadata": {},
   "outputs": [
    {
     "name": "stdout",
     "output_type": "stream",
     "text": [
      "12 1234567 12345\n"
     ]
    }
   ],
   "source": [
    "print(12,1234567,12345)"
   ]
  },
  {
   "cell_type": "code",
   "execution_count": 30,
   "metadata": {},
   "outputs": [
    {
     "name": "stdout",
     "output_type": "stream",
     "text": [
      "1234567 12345 12\n"
     ]
    }
   ],
   "source": [
    "print(1234567,12345,12)"
   ]
  },
  {
   "cell_type": "code",
   "execution_count": 31,
   "metadata": {},
   "outputs": [
    {
     "name": "stdout",
     "output_type": "stream",
     "text": [
      "     12345\n",
      "        12\n",
      "   1234567\n",
      "        12\n",
      "   1234567\n",
      "     12345\n",
      "   1234567\n",
      "     12345\n",
      "        12\n"
     ]
    }
   ],
   "source": [
    "print(format(12345,'10d'))\n",
    "print(format(12,'10d'))\n",
    "print(format(1234567,'10d'))\n",
    "print(format(12,'10d'))\n",
    "print(format(1234567,'10d'))\n",
    "print(format(12345,'10d'))\n",
    "print(format(1234567,'10d'))\n",
    "print(format(12345,'10d'))\n",
    "print(format(12,'10d'))"
   ]
  },
  {
   "cell_type": "code",
   "execution_count": 32,
   "metadata": {},
   "outputs": [
    {
     "name": "stdout",
     "output_type": "stream",
     "text": [
      "     12345        12   1234567\n",
      "        12   1234567     12345\n",
      "   1234567     12345        12\n"
     ]
    }
   ],
   "source": [
    "print(format(12345,'10d'),end='')\n",
    "print(format(12,'10d'),end='')\n",
    "print(format(1234567,'10d'))\n",
    "print(format(12,'10d'),end='')\n",
    "print(format(1234567,'10d'),end='')\n",
    "print(format(12345,'10d'))\n",
    "print(format(1234567,'10d'),end='')\n",
    "print(format(12345,'10d'),end='')\n",
    "print(format(12,'10d'))"
   ]
  },
  {
   "cell_type": "code",
   "execution_count": 33,
   "metadata": {},
   "outputs": [
    {
     "name": "stdout",
     "output_type": "stream",
     "text": [
      "     12345\n"
     ]
    }
   ],
   "source": [
    "print('%10d'%(12345))"
   ]
  },
  {
   "cell_type": "code",
   "execution_count": 34,
   "metadata": {},
   "outputs": [
    {
     "name": "stdout",
     "output_type": "stream",
     "text": [
      "|     12345|\n"
     ]
    }
   ],
   "source": [
    "print('|%10d|'%(12345))"
   ]
  },
  {
   "cell_type": "code",
   "execution_count": 35,
   "metadata": {},
   "outputs": [
    {
     "name": "stdout",
     "output_type": "stream",
     "text": [
      "|12345|\n"
     ]
    }
   ],
   "source": [
    "print('|%3d|'%(12345))"
   ]
  },
  {
   "cell_type": "code",
   "execution_count": 36,
   "metadata": {},
   "outputs": [
    {
     "name": "stdout",
     "output_type": "stream",
     "text": [
      "|12345     |\n"
     ]
    }
   ],
   "source": [
    "print('|%-10d|'%(12345))"
   ]
  },
  {
   "cell_type": "code",
   "execution_count": 37,
   "metadata": {},
   "outputs": [
    {
     "name": "stdout",
     "output_type": "stream",
     "text": [
      "|  123.46|\n",
      "|    1.23|\n",
      "| 1234.56|\n",
      "|   12.35|\n",
      "|   12.35|\n",
      "|12345.60|\n"
     ]
    }
   ],
   "source": [
    "print('|%8.2f|'%(123.456))\n",
    "print('|%8.2f|'%(1.23456))\n",
    "print('|%8.2f|'%(1234.56))\n",
    "print('|%8.2f|'%(12.3456))\n",
    "print('|%8.2f|'%(12.3456))\n",
    "print('|%8.2f|'%(12345.6))\n",
    "\n",
    "                        "
   ]
  },
  {
   "cell_type": "code",
   "execution_count": 38,
   "metadata": {},
   "outputs": [
    {
     "name": "stdout",
     "output_type": "stream",
     "text": [
      "|123.46|\n",
      "|1.23|\n",
      "|1234.56|\n",
      "|12.35|\n",
      "|12345.60|\n"
     ]
    }
   ],
   "source": [
    "print('|%.2f|'%(123.456))\n",
    "print('|%.2f|'%(1.23456))\n",
    "print('|%.2f|'%(1234.56))\n",
    "print('|%.2f|'%(12.3456))\n",
    "print('|%.2f|'%(12345.6))"
   ]
  },
  {
   "cell_type": "code",
   "execution_count": 39,
   "metadata": {},
   "outputs": [
    {
     "name": "stdout",
     "output_type": "stream",
     "text": [
      "|           learning python now|\n",
      "|learning python now           |\n",
      "|learning python now|\n"
     ]
    }
   ],
   "source": [
    "print('|%30s|'%('learning python now'))\n",
    "print('|%-30s|'%('learning python now'))\n",
    "print('|%15s|'%('learning python now'))\n"
   ]
  },
  {
   "cell_type": "code",
   "execution_count": 40,
   "metadata": {},
   "outputs": [
    {
     "name": "stdout",
     "output_type": "stream",
     "text": [
      "width= 5,height= 7,area= 24\n"
     ]
    }
   ],
   "source": [
    "print('width=%2d,height=%2d,area=%3d'%(5,7,24))"
   ]
  },
  {
   "cell_type": "code",
   "execution_count": 41,
   "metadata": {},
   "outputs": [
    {
     "name": "stdout",
     "output_type": "stream",
     "text": [
      "     12345        12   1234567\n",
      "        12   1234567     12345\n",
      "   1234567     12345        12\n"
     ]
    }
   ],
   "source": [
    "print('%10d%10d%10d'%(12345,12,1234567))\n",
    "print('%10d%10d%10d'%(12,1234567,12345))\n",
    "print('%10d%10d%10d'%(1234567,12345,12))"
   ]
  },
  {
   "cell_type": "code",
   "execution_count": 42,
   "metadata": {},
   "outputs": [
    {
     "name": "stdout",
     "output_type": "stream",
     "text": [
      "100%orange juice\n"
     ]
    }
   ],
   "source": [
    "print('%d%%orange juice'%(100))"
   ]
  },
  {
   "cell_type": "code",
   "execution_count": 43,
   "metadata": {},
   "outputs": [
    {
     "name": "stdout",
     "output_type": "stream",
     "text": [
      "123\n",
      "123,12345\n",
      "  123,  12345\n",
      "x=  123,y=  12345\n",
      "x=  123,y=  12345\n",
      "a= 123.46,b=   123.46\n",
      "kiwi     ,banana \n",
      "     kiwi, banana\n",
      "  kiwi   ,banana \n"
     ]
    }
   ],
   "source": [
    "print('{0}'.format(123))\n",
    "print('{0},{1}'.format(123,12345))\n",
    "print('{0:5d},{1:7d}'.format(123,12345))\n",
    "print('x={0:5d},y={1:7d}'.format(123,12345))\n",
    "print('x={p:5d},y={q:7d}'.format(p=123,q=12345))\n",
    "print('a={0:7.2f},b={1:9.2f}'.format(123.456,123.456))\n",
    "print('{p:9s},{q:7s}'.format(p='kiwi',q='banana'))\n",
    "print('{p:>9s},{q:>7s}'.format(p='kiwi',q='banana'))\n",
    "print('{p:^9s},{q:^7s}'.format(p='kiwi',q='banana'))"
   ]
  },
  {
   "cell_type": "code",
   "execution_count": 44,
   "metadata": {},
   "outputs": [
    {
     "name": "stdout",
     "output_type": "stream",
     "text": [
      "123\n"
     ]
    }
   ],
   "source": [
    "print('{0}'.format(123))"
   ]
  },
  {
   "cell_type": "code",
   "execution_count": 45,
   "metadata": {},
   "outputs": [
    {
     "name": "stdout",
     "output_type": "stream",
     "text": [
      "123,123456\n"
     ]
    }
   ],
   "source": [
    "print('{0},{1}'.format(123,123456))"
   ]
  },
  {
   "cell_type": "code",
   "execution_count": 46,
   "metadata": {},
   "outputs": [
    {
     "name": "stdout",
     "output_type": "stream",
     "text": [
      "  123,  12345\n"
     ]
    }
   ],
   "source": [
    "print('{0:5d},{1:7d}'.format(123,12345))"
   ]
  },
  {
   "cell_type": "code",
   "execution_count": 47,
   "metadata": {},
   "outputs": [
    {
     "name": "stdout",
     "output_type": "stream",
     "text": [
      "x=  123,y=  12345\n"
     ]
    }
   ],
   "source": [
    "print('x={0:5d},y={1:7d}'.format(123,12345))"
   ]
  },
  {
   "cell_type": "code",
   "execution_count": 48,
   "metadata": {},
   "outputs": [
    {
     "name": "stdout",
     "output_type": "stream",
     "text": [
      "x=  123,y=  12345\n"
     ]
    }
   ],
   "source": [
    "print('x={p:5d},y={q:7d}'.format(p=123,q=12345))"
   ]
  },
  {
   "cell_type": "code",
   "execution_count": 49,
   "metadata": {},
   "outputs": [
    {
     "name": "stdout",
     "output_type": "stream",
     "text": [
      "a= 123.46,b=   123.46\n"
     ]
    }
   ],
   "source": [
    "print('a={0:7.2f},b={1:9.2f}'.format(123.456,123.456))"
   ]
  },
  {
   "cell_type": "code",
   "execution_count": 50,
   "metadata": {},
   "outputs": [
    {
     "name": "stdout",
     "output_type": "stream",
     "text": [
      "|     12345        12   1234567|\n",
      "|        12   1234567       123|\n",
      "|   1234567       123     12346|\n"
     ]
    }
   ],
   "source": [
    "print('|%10d %9d %9d|'%(12345,12,1234567))\n",
    "print('|%10d %9d %9d|'%(12,1234567,123))\n",
    "print('|%10d %9d %9d|'%(1234567,123,12346))"
   ]
  },
  {
   "cell_type": "code",
   "execution_count": 51,
   "metadata": {},
   "outputs": [
    {
     "name": "stdout",
     "output_type": "stream",
     "text": [
      "department  \n",
      "of          \n",
      "computer    \n",
      "science     \n",
      "\n"
     ]
    }
   ],
   "source": [
    "print(format('department','12s'))\n",
    "print(format('of','12s'))\n",
    "print(format('computer','12s'))\n",
    "print(format('science','12s'))\n",
    "print()"
   ]
  },
  {
   "cell_type": "code",
   "execution_count": 52,
   "metadata": {},
   "outputs": [
    {
     "name": "stdout",
     "output_type": "stream",
     "text": [
      "  department\n",
      "          of\n",
      "    computer\n",
      "     science\n"
     ]
    }
   ],
   "source": [
    "print(format('department','>12s'))\n",
    "print(format('of','>12s'))\n",
    "print(format('computer','>12s'))\n",
    "print(format('science','>12s'))"
   ]
  },
  {
   "cell_type": "code",
   "execution_count": 53,
   "metadata": {},
   "outputs": [
    {
     "name": "stdout",
     "output_type": "stream",
     "text": [
      "    123.46\n",
      "  12345.68\n"
     ]
    }
   ],
   "source": [
    "print(format(123.456,'10.2f'))\n",
    "print(format(12345.678,'10.2f'))\n"
   ]
  },
  {
   "cell_type": "code",
   "execution_count": 54,
   "metadata": {},
   "outputs": [
    {
     "name": "stdout",
     "output_type": "stream",
     "text": [
      "i=100\n",
      "i=100,j=200\n"
     ]
    }
   ],
   "source": [
    "print('i=%d'%(100))\n",
    "print('i=%d,j=%d'%(100,200))"
   ]
  },
  {
   "cell_type": "code",
   "execution_count": 55,
   "metadata": {},
   "outputs": [
    {
     "name": "stdout",
     "output_type": "stream",
     "text": [
      "price:$  356.09\n",
      "    123.46     345.79\n",
      "123.46      100\n",
      "radius=5,area=  78.54\n",
      "raidus:  5,area:      3.01\n"
     ]
    }
   ],
   "source": [
    "print('price:$%8.2f'%(356.0898977))\n",
    "print('%10.2f %10.2f'%(123.456,345.789))\n",
    "print('%-10.2f%5d'%(123.456,100))\n",
    "print('radius=%d,area=%7.2f'%(5,5*5*3.14159))\n",
    "print('raidus:{a:3d},area:{b:10.2f}'.format(a=5,b=5*5%3.14159))"
   ]
  },
  {
   "cell_type": "code",
   "execution_count": 56,
   "metadata": {},
   "outputs": [
    {
     "name": "stdout",
     "output_type": "stream",
     "text": [
      "3.250000 degree celsius in fahreheit)    is 37.85\n",
      "94.500000 degree fahreheit in celsius)    is 34.72\n"
     ]
    }
   ],
   "source": [
    "print('%2f degree celsius in fahreheit)\\\n",
    "    is %.2f'%(3.25,3.25*1.8+32))\n",
    "print('%2f degree fahreheit in celsius)\\\n",
    "    is %.2f'%(94.5,(94.5-32)/1.8))\n"
   ]
  },
  {
   "cell_type": "code",
   "execution_count": 57,
   "metadata": {},
   "outputs": [
    {
     "name": "stdout",
     "output_type": "stream",
     "text": [
      "month          amount    \n",
      "1              43400.20  \n",
      "2              45430.28  \n",
      "3              48030.48  \n",
      "4              51112.96  \n",
      "5              52857.20  \n"
     ]
    }
   ],
   "source": [
    "print('%-15s%-10s'%('month','amount'))\n",
    "print('%-15d%-10.2f'%(1,43400.2))\n",
    "print('%-15d%-10.2f'%(2,45430.28))\n",
    "print('%-15d%-10.2f'%(3,48030.48))\n",
    "print('%-15d%-10.2f'%(4,51112.96))\n",
    "print('%-15d%-10.2f'%(5,52857.2))\n"
   ]
  },
  {
   "cell_type": "code",
   "execution_count": 58,
   "metadata": {},
   "outputs": [
    {
     "name": "stdout",
     "output_type": "stream",
     "text": [
      "|     12345       12  1234567|\n",
      "raidus:  5,area:     15.71\n",
      "    123.46\n",
      "1              4300.20   \n",
      "x=  123,y=  12345\n"
     ]
    }
   ],
   "source": [
    "print('|%10d%9d%9d|'%(12345,12,1234567))\n",
    "print('raidus:{0:3d},area:{1:10.2f}'.format(5,5*3.14159))\n",
    "print(format(123.456,'10.2f'))\n",
    "print('%-15d%-10.2f'%(1,4300.2))\n",
    "print('x={0:5d},y={1:7d}'.format(123,12345))"
   ]
  },
  {
   "cell_type": "code",
   "execution_count": 59,
   "metadata": {},
   "outputs": [
    {
     "name": "stdout",
     "output_type": "stream",
     "text": [
      "123       45        \n",
      "123456    78901     \n",
      "123        45        \n",
      "123456     78901     \n",
      "123       45        \n",
      "123456    78901     \n"
     ]
    }
   ],
   "source": [
    "print(format(123,'<10d'),end='')\n",
    "print(format(45,'<10d'))\n",
    "print(format(123456,'<10d'),end='')\n",
    "print(format(78901,'<10d'))\n",
    "print('{0:<10d} {1:<10d}'.format(123,45))\n",
    "print('{0:<10d} {1:<10d}'.format(123456,78901))\n",
    "print('%-10d%-10d'%(123,45))\n",
    "print('%-10d%-10d'%(123456,78901))"
   ]
  },
  {
   "cell_type": "code",
   "execution_count": 60,
   "metadata": {},
   "outputs": [
    {
     "name": "stdout",
     "output_type": "stream",
     "text": [
      "       123        45\n",
      "    123456     78901\n",
      "       123         45\n",
      "    123456      78901\n",
      "       123        45\n",
      "    123456     78901\n"
     ]
    }
   ],
   "source": [
    "print(format(123,'>10d'),end='')\n",
    "print(format(45,'>10d'))\n",
    "print(format(123456,'>10d'),end='')\n",
    "print(format(78901,'>10d'))\n",
    "print('{0:>10d} {1:>10d}'.format(123,45))\n",
    "print('{0:>10d} {1:>10d}'.format(123456,78901))\n",
    "print('%10d%10d'%(123,45))\n",
    "print('%10d%10d'%(123456,78901))"
   ]
  },
  {
   "cell_type": "code",
   "execution_count": 61,
   "metadata": {},
   "outputs": [
    {
     "name": "stdout",
     "output_type": "stream",
     "text": [
      "member karen  ,discount0.35\n",
      "member sammy  ,discount0.40\n",
      "member jojo   ,discount0.42\n"
     ]
    }
   ],
   "source": [
    "print('member {0:7s},discount{1:3.2f}'.format('karen',0.35))\n",
    "print('member {0:7s},discount{1:3.2f}'.format('sammy',0.4))\n",
    "print('member {0:7s},discount{1:3.2f}'.format('jojo',0.42))"
   ]
  },
  {
   "cell_type": "code",
   "execution_count": 62,
   "metadata": {},
   "outputs": [
    {
     "name": "stdout",
     "output_type": "stream",
     "text": [
      "                tallshort               \n",
      "              strongweak                \n",
      "               thickthin                \n"
     ]
    }
   ],
   "source": [
    "print('%20s%-20s'%('tall','short'))\n",
    "print('%20s%-20s'%('strong','weak'))\n",
    "print('%20s%-20s'%('thick','thin'))"
   ]
  },
  {
   "cell_type": "code",
   "execution_count": 63,
   "metadata": {},
   "outputs": [
    {
     "name": "stdout",
     "output_type": "stream",
     "text": [
      "   apple's products:iphone              \n",
      "                    imac                \n",
      "                    apple watch         \n",
      "                    ...                 \n"
     ]
    }
   ],
   "source": [
    "print('%20s%-20s'%('apple\\'s products:','iphone'))\n",
    "print('%20s%-20s'%('','imac'))\n",
    "print('%20s%-20s'%('','apple watch'))\n",
    "print('%20s%-20s'%('','...'))"
   ]
  },
  {
   "cell_type": "code",
   "execution_count": 64,
   "metadata": {},
   "outputs": [
    {
     "name": "stdout",
     "output_type": "stream",
     "text": [
      "city           celsius\n",
      "taipei           33.20\n",
      "yilan            32.93\n",
      "miaoli           32.29\n",
      "taichung         32.48\n",
      "hualian          33.78\n"
     ]
    }
   ],
   "source": [
    "print('%-15s%7s'%('city','celsius'))\n",
    "print('%-15s%7.2f'%('taipei',33.2))\n",
    "print('%-15s%7.2f'%('yilan',32.93))\n",
    "print('%-15s%7.2f'%('miaoli',32.29))\n",
    "print('%-15s%7.2f'%('taichung',32.48))\n",
    "print('%-15s%7.2f'%('hualian',33.78))\n"
   ]
  },
  {
   "cell_type": "code",
   "execution_count": 65,
   "metadata": {},
   "outputs": [
    {
     "name": "stdout",
     "output_type": "stream",
     "text": [
      "|    22    44    66    88|\n",
      "|33    55    77    99    |\n",
      "|   222   444   669   888|\n",
      "|333   555   777   999   |\n"
     ]
    }
   ],
   "source": [
    "print('|%6d%6d%6d%6d|'%(22,44,66,88))\n",
    "print('|%-6d%-6d%-6d%-6d|'%(33,55,77,99))\n",
    "print('|%6d%6d%6d%6d|'%(222,444,669,888))\n",
    "print('|%-6d%-6d%-6d%-6d|'%(333,555,777,999))"
   ]
  },
  {
   "cell_type": "code",
   "execution_count": 66,
   "metadata": {},
   "outputs": [
    {
     "name": "stdout",
     "output_type": "stream",
     "text": [
      "----------\n",
      "learning python now***\n",
      "python is fun$$$\n",
      "----------\n"
     ]
    }
   ],
   "source": [
    "print('----------')\n",
    "print('learning python now***')\n",
    "print('python is fun$$$')\n",
    "print('----------')"
   ]
  },
  {
   "cell_type": "code",
   "execution_count": 67,
   "metadata": {},
   "outputs": [
    {
     "name": "stdout",
     "output_type": "stream",
     "text": [
      "|     12345       12  1234567|\n"
     ]
    }
   ],
   "source": [
    "print('|%10d%9d%9d|'%(12345,12,1234567))"
   ]
  },
  {
   "cell_type": "code",
   "execution_count": 68,
   "metadata": {},
   "outputs": [
    {
     "name": "stdout",
     "output_type": "stream",
     "text": [
      "raidus:  5,area:     15.71\n"
     ]
    }
   ],
   "source": [
    "print('raidus:{a:3d},area:{b:10.2f}'.format(a=5,b=5*3.14159))"
   ]
  },
  {
   "cell_type": "code",
   "execution_count": 69,
   "metadata": {},
   "outputs": [
    {
     "name": "stdout",
     "output_type": "stream",
     "text": [
      "    123.46\n"
     ]
    }
   ],
   "source": [
    "print(format(123.456,'10.2f'))"
   ]
  },
  {
   "cell_type": "code",
   "execution_count": 70,
   "metadata": {},
   "outputs": [
    {
     "name": "stdout",
     "output_type": "stream",
     "text": [
      "              1  43400.20\n"
     ]
    }
   ],
   "source": [
    "print('%15d%10.2f'%(1,43400.2))"
   ]
  },
  {
   "cell_type": "code",
   "execution_count": 71,
   "metadata": {},
   "outputs": [
    {
     "name": "stdout",
     "output_type": "stream",
     "text": [
      "x=  123,y=  12345\n"
     ]
    }
   ],
   "source": [
    "print('x={a:5d},y={b:7d}'.format(a=123,b=12345))"
   ]
  },
  {
   "cell_type": "code",
   "execution_count": 72,
   "metadata": {},
   "outputs": [
    {
     "name": "stdout",
     "output_type": "stream",
     "text": [
      "123.46    45.68     \n",
      "123456.79 78901.23  \n",
      "123.46     45.68     \n",
      "123456.79  78901.23  \n",
      "123.46    45.68     \n",
      "123456.79 78901.23  \n"
     ]
    }
   ],
   "source": [
    "print(format(123.456,'<10.2f'),end='')\n",
    "print(format(45.678,'<10.2f'))\n",
    "print(format(123456.79,'<10.2f'),end='')\n",
    "print(format(78901.23,'<10.2f'))\n",
    "print('{0:<10.2f} {1:<10.2f}'.format(123.456,45.678))\n",
    "print('{0:<10.2f} {1:<10.2f}'.format(123456.79,78901.23))\n",
    "print('%-10.2f%-10.2f'%(123.456,45.678))\n",
    "print('%-10.2f%-10.2f'%(123456.79,78901.23))"
   ]
  },
  {
   "cell_type": "code",
   "execution_count": 73,
   "metadata": {},
   "outputs": [
    {
     "name": "stdout",
     "output_type": "stream",
     "text": [
      "|12345|\n",
      "|12345|\n",
      "|   12345|\n"
     ]
    }
   ],
   "source": [
    "print('|%3d|'%(12345))\n",
    "print('|%5d|'%(12345))\n",
    "print('|%8d|'%(12345))"
   ]
  },
  {
   "cell_type": "code",
   "execution_count": 74,
   "metadata": {},
   "outputs": [
    {
     "name": "stdout",
     "output_type": "stream",
     "text": [
      "|123.456000|\n",
      "|123.46|\n",
      "|    123.46|\n",
      "|123.46|\n"
     ]
    }
   ],
   "source": [
    "print('|%f|'%(123.456))\n",
    "print('|%5.2f|'%(123.456))\n",
    "print('|%10.2f|'%(123.456))\n",
    "print('|%.2f|'%(123.456))"
   ]
  },
  {
   "cell_type": "code",
   "execution_count": 75,
   "metadata": {},
   "outputs": [
    {
     "name": "stdout",
     "output_type": "stream",
     "text": [
      "|     apple|\n"
     ]
    }
   ],
   "source": [
    "print('|%10s|'%('apple'))"
   ]
  },
  {
   "cell_type": "code",
   "execution_count": 76,
   "metadata": {
    "scrolled": true
   },
   "outputs": [
    {
     "name": "stdout",
     "output_type": "stream",
     "text": [
      "|12345   |\n",
      "|123.46    |\n",
      "|apple     |\n"
     ]
    }
   ],
   "source": [
    "print('|%-8d|'%(12345))\n",
    "print('|%-10.2f|'%(123.456))\n",
    "print('|%-10s|'%('apple'))"
   ]
  }
 ],
 "metadata": {
  "kernelspec": {
   "display_name": "Python 3",
   "language": "python",
   "name": "python3"
  },
  "language_info": {
   "codemirror_mode": {
    "name": "ipython",
    "version": 3
   },
   "file_extension": ".py",
   "mimetype": "text/x-python",
   "name": "python",
   "nbconvert_exporter": "python",
   "pygments_lexer": "ipython3",
   "version": "3.8.5"
  }
 },
 "nbformat": 4,
 "nbformat_minor": 4
}
