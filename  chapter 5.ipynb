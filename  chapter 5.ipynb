{
 "cells": [
  {
   "cell_type": "code",
   "execution_count": 1,
   "metadata": {},
   "outputs": [
    {
     "name": "stdout",
     "output_type": "stream",
     "text": [
      "x=70\n"
     ]
    }
   ],
   "source": [
    "x=65\n",
    "if x>60:\n",
    "    x=x+5\n",
    "print('x=%d'%(x))"
   ]
  },
  {
   "cell_type": "code",
   "execution_count": 2,
   "metadata": {},
   "outputs": [
    {
     "name": "stdout",
     "output_type": "stream",
     "text": [
      "請輸入分子1\n",
      "請輸入分母1\n",
      "1 / 1 = 1.0\n",
      "over\n"
     ]
    }
   ],
   "source": [
    "numerator=eval(input('請輸入分子'))\n",
    "denominator=eval(input('請輸入分母'))\n",
    "if denominator !=0:\n",
    "    ans=numerator/denominator\n",
    "    print(numerator,'/',denominator,'=',ans)\n",
    "print('over')"
   ]
  },
  {
   "cell_type": "code",
   "execution_count": 3,
   "metadata": {},
   "outputs": [
    {
     "name": "stdout",
     "output_type": "stream",
     "text": [
      "please input a number:1\n",
      "over\n"
     ]
    }
   ],
   "source": [
    "number=eval(input('please input a number:'))\n",
    "if number%5==0:\n",
    "    print(number,'is 5\\'s multiple')\n",
    "print('over')    "
   ]
  },
  {
   "cell_type": "code",
   "execution_count": 4,
   "metadata": {},
   "outputs": [
    {
     "name": "stdout",
     "output_type": "stream",
     "text": [
      "請輸入分子1\n",
      "請輸入分母1\n",
      "1 / 1 = 1.0\n",
      "over\n"
     ]
    }
   ],
   "source": [
    "numerator=eval(input('請輸入分子'))\n",
    "denominator=eval(input('請輸入分母'))\n",
    "if denominator !=0:\n",
    "    ans=numerator/denominator\n",
    "    print(numerator,'/',denominator,'=',ans)\n",
    "else:\n",
    "    print('分母不可為0')\n",
    "print('over')"
   ]
  },
  {
   "cell_type": "code",
   "execution_count": 5,
   "metadata": {},
   "outputs": [
    {
     "name": "stdout",
     "output_type": "stream",
     "text": [
      "please input a number1\n",
      "1 is an even number\n",
      "over\n"
     ]
    }
   ],
   "source": [
    "num=eval(input('please input a number'))\n",
    "if num%1==0:\n",
    "    print(num,'is an even number')\n",
    "else:\n",
    "    print(num,'is a odd number')\n",
    "print('over')"
   ]
  },
  {
   "cell_type": "code",
   "execution_count": 6,
   "metadata": {},
   "outputs": [
    {
     "name": "stdout",
     "output_type": "stream",
     "text": [
      "please input a number1\n",
      "1 is greater than 0\n",
      "over\n"
     ]
    }
   ],
   "source": [
    "number=eval(input('please input a number'))\n",
    "if number>0:\n",
    "    print(number,'is greater than 0')\n",
    "else:\n",
    "    if number<0:\n",
    "        print(number,'is less than 0')\n",
    "    else:\n",
    "        print(number,'is equal to 0')\n",
    "print('over')"
   ]
  },
  {
   "cell_type": "code",
   "execution_count": 7,
   "metadata": {},
   "outputs": [
    {
     "name": "stdout",
     "output_type": "stream",
     "text": [
      "please input a number1\n",
      "1 is greater than 0\n",
      "over\n"
     ]
    }
   ],
   "source": [
    "number=eval(input('please input a number'))\n",
    "if number>0:\n",
    "    print(number,'is greater than 0')\n",
    "elif number<0:\n",
    "    print(number,'is less than 0')\n",
    "else:\n",
    "    print(number,'is equal to 0')\n",
    "print('over')"
   ]
  },
  {
   "cell_type": "code",
   "execution_count": 8,
   "metadata": {},
   "outputs": [
    {
     "name": "stdout",
     "output_type": "stream",
     "text": [
      "please unput your score1\n",
      "grade e\n"
     ]
    }
   ],
   "source": [
    "score=eval(input('please unput your score'))\n",
    "if score >=80:\n",
    "    print('grade a')\n",
    "elif score >=70:\n",
    "    print('grade b')\n",
    "elif  score >=60:\n",
    "    print('grade c')\n",
    "elif  score >=50:\n",
    "    print('grade d')    \n",
    "else:  \n",
    "    print('grade e')    "
   ]
  },
  {
   "cell_type": "code",
   "execution_count": 9,
   "metadata": {},
   "outputs": [
    {
     "name": "stdout",
     "output_type": "stream",
     "text": [
      "please unput your weight(kiligram):1\n",
      "please unput your height(centimeter):1\n",
      "yuor bmi is 10000.00\n",
      "obese\n"
     ]
    }
   ],
   "source": [
    "w=eval(input('please unput your weight(kiligram):'))\n",
    "h=eval(input('please unput your height(centimeter):'))\n",
    "he=(h/100)\n",
    "\n",
    "bmi=w/(he*he)\n",
    "print('yuor bmi is',format(bmi,'.2f'))\n",
    "if bmi < 18.5:\n",
    "    print('inderweight')\n",
    "elif bmi <25:\n",
    "    print('normal')\n",
    "elif bmi <30:\n",
    "    print('overweight')\n",
    "else:\n",
    "    print('obese')"
   ]
  },
  {
   "cell_type": "code",
   "execution_count": 10,
   "metadata": {},
   "outputs": [
    {
     "name": "stdout",
     "output_type": "stream",
     "text": [
      "please enter which year?1\n",
      "1 is not leap year\n"
     ]
    }
   ],
   "source": [
    "y=eval(input('please enter which year?'))\n",
    "c1=y%400==0\n",
    "c2=y%4==0\n",
    "c3=y%100!=0\n",
    "if c1 or (c2 and c3):\n",
    "    print(y,'is leap year')\n",
    "else:\n",
    "    print(y,'is not leap year')"
   ]
  },
  {
   "cell_type": "code",
   "execution_count": 11,
   "metadata": {},
   "outputs": [
    {
     "name": "stdout",
     "output_type": "stream",
     "text": [
      "please enter a number1\n",
      "1\n"
     ]
    }
   ],
   "source": [
    "number=eval(input('please enter a number'))\n",
    "if number>=0:\n",
    "    print(number)\n",
    "else:\n",
    "    print(-number)"
   ]
  },
  {
   "cell_type": "code",
   "execution_count": 12,
   "metadata": {},
   "outputs": [
    {
     "name": "stdout",
     "output_type": "stream",
     "text": [
      "enter your score1\n",
      "you fail\n"
     ]
    }
   ],
   "source": [
    "s=eval(input('enter your score'))\n",
    "if s>=60:\n",
    "    print('your pass')\n",
    "else:\n",
    "    print('you fail')"
   ]
  },
  {
   "cell_type": "code",
   "execution_count": 13,
   "metadata": {},
   "outputs": [
    {
     "name": "stdout",
     "output_type": "stream",
     "text": [
      "enter number1:1\n",
      "enter number2:1\n",
      "enter an arithmetic operator(+,-,*,/):1\n",
      "invalid operator\n",
      "1.000011.0000=0.0000\n"
     ]
    }
   ],
   "source": [
    "n1=eval(input('enter number1:'))\n",
    "n2=eval(input('enter number2:'))\n",
    "\n",
    "op=input('enter an arithmetic operator(+,-,*,/):')\n",
    "r=0\n",
    "f=0\n",
    "if op =='+':\n",
    "    r=n1+n2\n",
    "elif op =='-':    \n",
    "     r=n1-n2\n",
    "elif op =='*': \n",
    "    r=n1*n2\n",
    "elif op =='/':  \n",
    "     r=n1/n2\n",
    "else:\n",
    "    print('invalid operator')\n",
    "    \n",
    "if f!=1:\n",
    "    print('%.4f%c%.4f=%.4f'%(n1,op,n2,r))"
   ]
  },
  {
   "cell_type": "code",
   "execution_count": 14,
   "metadata": {},
   "outputs": [
    {
     "name": "stdout",
     "output_type": "stream",
     "text": [
      "請輸入年齡1\n",
      "您的年齡屬於童年\n"
     ]
    }
   ],
   "source": [
    "a=eval(input('請輸入年齡'))\n",
    "s=''\n",
    "\n",
    "if a<6:\n",
    "    s='童年'\n",
    "elif a<=17:\n",
    "    s='少年'\n",
    "elif a<=40: \n",
    "    s='青年'\n",
    "elif a<=65:\n",
    "    s='中年'\n",
    "else:\n",
    "    s='老年'\n",
    "    \n",
    "print('您的年齡屬於%s'%s)"
   ]
  },
  {
   "cell_type": "code",
   "execution_count": 15,
   "metadata": {},
   "outputs": [
    {
     "name": "stdout",
     "output_type": "stream",
     "text": [
      "Is your birthday in set1?\n",
      "1 3 5 7\n",
      "9 11 13 15\n",
      "17 19 21 23\n",
      "25 27 29 31\n",
      "\n",
      "Enter 1 for Yes and 0 for No:1\n",
      "Is your birthday in set2?\n",
      "2 3 6 7\n",
      "10 11 14 15\n",
      "18 19 22 23\n",
      "26 27 30 31\n",
      "\n",
      "Enter 1 for Yes and o for No:1\n",
      "Is your birthday in set3?\n",
      "4 5 6 7\n",
      "12 13 14 15\n",
      "20 21 22 23\n",
      "28 29 30 31\n",
      "\n",
      "Enter 1 for Yes and 0 for No: 1\n",
      "Is your birthday in set1?\n",
      "8 9 10 11\n",
      "12 13 14 15\n",
      "24 25 26 27\n",
      "28 29 30 31\n",
      "InEnter 1 for Yes and 0 for No: 1\n",
      "Is your birthday in set1?\n",
      "16 17 18 19\n",
      "20 21 22 23\n",
      "24 25 26 27\n",
      "28 29 30 31\n",
      "\n",
      "Enter 1 for Yes and 0 for No:1\n",
      "Your birthday is 31\n"
     ]
    }
   ],
   "source": [
    "day=0\n",
    "question1 = \"Is your birthday in set1?\\n\"+\\\n",
    "    \"1 3 5 7\\n\" + \\\n",
    "    \"9 11 13 15\\n\" + \\\n",
    "    \"17 19 21 23\\n\" + \\\n",
    "    '25 27 29 31\\n'+\\\n",
    "\"\\nEnter 1 for Yes and 0 for No:\"\n",
    "answer = eval(input(question1)) \n",
    "if answer == 1: \n",
    "    day += 1 \n",
    "\n",
    "question2 = \"Is your birthday in set2?\\n\" +\\\n",
    "    \"2 3 6 7\\n\" + \\\n",
    "    \"10 11 14 15\\n\"+\\\n",
    "    \"18 19 22 23\\n\" +\\\n",
    "    \"26 27 30 31\\n\"+\\\n",
    "\"\\nEnter 1 for Yes and o for No:\"\n",
    "answer = eval(input(question2))\n",
    "if answer == 1:\n",
    "    day += 2 \n",
    "    \n",
    "question3 = \"Is your birthday in set3?\\n\" + \\\n",
    "    \"4 5 6 7\\n\"+\\\n",
    "    \"12 13 14 15\\n\"+\\\n",
    "    \"20 21 22 23\\n\"+\\\n",
    "    \"28 29 30 31\\n\"+\\\n",
    "\"\\nEnter 1 for Yes and 0 for No: \"\n",
    "answer = eval(input(question3)) \n",
    "if answer == 1: \n",
    "    day += 4 \n",
    "\n",
    "question4 = \"Is your birthday in set1?\\n\" + \\\n",
    "\"8 9 10 11\\n\"+\\\n",
    "\"12 13 14 15\\n\"+\\\n",
    "\"24 25 26 27\\n\"+\\\n",
    "\"28 29 30 31\\n\"+\\\n",
    "\"InEnter 1 for Yes and 0 for No: \"\n",
    "answer = eval(input(question4)) \n",
    "if answer == 1: \n",
    "    day += 8\n",
    "    \n",
    "question5 = \"Is your birthday in set1?\\n\"+\\\n",
    "\"16 17 18 19\\n\"+\\\n",
    "\"20 21 22 23\\n\"+\\\n",
    "\"24 25 26 27\\n\"+\\\n",
    "\"28 29 30 31\\n\"+\\\n",
    "\"\\nEnter 1 for Yes and 0 for No:\" \n",
    "answer = eval(input(question5)) \n",
    "if answer == 1:\n",
    "    day += 16\n",
    "print(\"Your birthday is\", day)"
   ]
  },
  {
   "cell_type": "code",
   "execution_count": 16,
   "metadata": {},
   "outputs": [
    {
     "name": "stdout",
     "output_type": "stream",
     "text": [
      "enter your score1\n",
      "your score is 1\n"
     ]
    }
   ],
   "source": [
    "score=eval(input('enter your score'))\n",
    "if score>=60:\n",
    "    score+=10\n",
    "print('your score is %d'%(score))"
   ]
  },
  {
   "cell_type": "code",
   "execution_count": 17,
   "metadata": {},
   "outputs": [
    {
     "name": "stdout",
     "output_type": "stream",
     "text": [
      "enter your score1\n",
      "your score is 9\n"
     ]
    }
   ],
   "source": [
    "score=eval(input('enter your score'))\n",
    "if score>=60:\n",
    "    score+=10\n",
    "else:\n",
    "    score+=8\n",
    "print('your score is %d'%(score))"
   ]
  },
  {
   "cell_type": "code",
   "execution_count": 18,
   "metadata": {},
   "outputs": [
    {
     "name": "stdout",
     "output_type": "stream",
     "text": [
      "enter temperature today1\n",
      "comfortable\n",
      "over\n"
     ]
    }
   ],
   "source": [
    "tp=eval(input('enter temperature today'))\n",
    "if tp>=28:\n",
    "    print('hot')\n",
    "else:\n",
    "    print('comfortable')\n",
    "print('over')"
   ]
  },
  {
   "cell_type": "code",
   "execution_count": 19,
   "metadata": {},
   "outputs": [
    {
     "name": "stdout",
     "output_type": "stream",
     "text": [
      "enter temperature today1\n",
      "cold\n",
      "over\n"
     ]
    }
   ],
   "source": [
    "tp=eval(input('enter temperature today'))\n",
    "if tp>=28:\n",
    "    print('hot')\n",
    "elif tp>=22:\n",
    "     print('comfortable')\n",
    "else:\n",
    "    print('cold')\n",
    "print('over')"
   ]
  },
  {
   "cell_type": "code",
   "execution_count": 20,
   "metadata": {},
   "outputs": [
    {
     "name": "stdout",
     "output_type": "stream",
     "text": [
      "enter temperature today1\n",
      "enter humility today1\n",
      "cold\n",
      "over\n"
     ]
    }
   ],
   "source": [
    "tp=eval(input('enter temperature today'))\n",
    "hu=tp=eval(input('enter humility today'))\n",
    "if tp>=28:\n",
    "    print('hot')\n",
    "elif tp>=22 and hu>=40 and hu<=50:\n",
    "    print('comfortable')\n",
    "else:\n",
    "    print('cold')\n",
    "print('over')"
   ]
  },
  {
   "cell_type": "code",
   "execution_count": 21,
   "metadata": {},
   "outputs": [
    {
     "name": "stdout",
     "output_type": "stream",
     "text": [
      "enter a chatacter1\n",
      "1 is other character\n"
     ]
    }
   ],
   "source": [
    "ch=input('enter a chatacter')\n",
    "if ch>='a'and ch<='z':\n",
    "    print('%c is lowercase'%(ch))\n",
    "elif ch>='A'and ch<='Z':\n",
    "    print('%c is lowercase'%(ch))\n",
    "else:\n",
    "    print('%s is other character'%(ch))"
   ]
  },
  {
   "cell_type": "code",
   "execution_count": 22,
   "metadata": {},
   "outputs": [
    {
     "name": "stdout",
     "output_type": "stream",
     "text": [
      "enter a number:1\n",
      "1is odd number\n",
      "test is over\n"
     ]
    }
   ],
   "source": [
    "n=eval(input('enter a number:'))\n",
    "if n%2==0:\n",
    "    print('%d'%(n),end='')\n",
    "    print(' is even number')\n",
    "else:\n",
    "    print('%d'%(n),end='')\n",
    "    print('is odd number')\n",
    "print('test is over')"
   ]
  },
  {
   "cell_type": "code",
   "execution_count": 23,
   "metadata": {},
   "outputs": [
    {
     "name": "stdout",
     "output_type": "stream",
     "text": [
      "please input radius:1\n",
      "radius= 1\n",
      "area= 3.14158\n"
     ]
    }
   ],
   "source": [
    "radius=eval(input('please input radius:'))\n",
    "if radius==0:\n",
    "     print('negative is nit invalid !!!')\n",
    "else:\n",
    "    a=radius*radius*3.14158\n",
    "    print('radius=',radius)\n",
    "    print('area=',a)"
   ]
  },
  {
   "cell_type": "code",
   "execution_count": 24,
   "metadata": {},
   "outputs": [
    {
     "name": "stdout",
     "output_type": "stream",
     "text": [
      "enter temperature today:1\n",
      "cold\n",
      "over\n"
     ]
    }
   ],
   "source": [
    "tp=eval(input('enter temperature today:'))\n",
    "if tp>=28:\n",
    "    print('hot')\n",
    "elif tp>=22:\n",
    "    print('comfortable')\n",
    "else:\n",
    "    print('cold')\n",
    "print('over')"
   ]
  },
  {
   "cell_type": "code",
   "execution_count": 25,
   "metadata": {},
   "outputs": [
    {
     "name": "stdout",
     "output_type": "stream",
     "text": [
      "enter your score1\n",
      "your score 9\n"
     ]
    }
   ],
   "source": [
    "s=eval(input('enter your score'))\n",
    "if s>=60:\n",
    "    s+=10\n",
    "else:\n",
    "    s+=8\n",
    "print('your score %d'%(s))"
   ]
  },
  {
   "cell_type": "code",
   "execution_count": 26,
   "metadata": {},
   "outputs": [
    {
     "name": "stdout",
     "output_type": "stream",
     "text": [
      "enter temperature today:1\n",
      "enter humility today1\n",
      "comfortable\n",
      "over\n"
     ]
    }
   ],
   "source": [
    "tp=eval(input('enter temperature today:'))\n",
    "hu=eval(input('enter humility today'))\n",
    "if tp>=28:\n",
    "    print('hot')\n",
    "elif tp>=22 & hu>=40 & hu<=50:\n",
    "    print('comfortable')\n",
    "else:\n",
    "    print('cold')\n",
    "print('over')"
   ]
  },
  {
   "cell_type": "code",
   "execution_count": 27,
   "metadata": {},
   "outputs": [
    {
     "name": "stdout",
     "output_type": "stream",
     "text": [
      "please input what year?1\n",
      "1 is not leap year\n"
     ]
    }
   ],
   "source": [
    "y=eval(input('please input what year?'))\n",
    "if y%400==0 and y%4==0 and y%100!=0:\n",
    "    print(y,'is leap year')\n",
    "else:\n",
    "    print(y,'is not leap year')"
   ]
  },
  {
   "cell_type": "code",
   "execution_count": null,
   "metadata": {},
   "outputs": [],
   "source": []
  },
  {
   "cell_type": "code",
   "execution_count": null,
   "metadata": {},
   "outputs": [],
   "source": []
  },
  {
   "cell_type": "code",
   "execution_count": null,
   "metadata": {},
   "outputs": [],
   "source": []
  },
  {
   "cell_type": "code",
   "execution_count": null,
   "metadata": {},
   "outputs": [],
   "source": []
  },
  {
   "cell_type": "code",
   "execution_count": null,
   "metadata": {},
   "outputs": [],
   "source": []
  },
  {
   "cell_type": "code",
   "execution_count": null,
   "metadata": {},
   "outputs": [],
   "source": []
  },
  {
   "cell_type": "code",
   "execution_count": null,
   "metadata": {},
   "outputs": [],
   "source": []
  },
  {
   "cell_type": "code",
   "execution_count": null,
   "metadata": {},
   "outputs": [],
   "source": []
  },
  {
   "cell_type": "code",
   "execution_count": null,
   "metadata": {},
   "outputs": [],
   "source": []
  },
  {
   "cell_type": "code",
   "execution_count": null,
   "metadata": {},
   "outputs": [],
   "source": []
  },
  {
   "cell_type": "code",
   "execution_count": null,
   "metadata": {},
   "outputs": [],
   "source": []
  },
  {
   "cell_type": "code",
   "execution_count": null,
   "metadata": {},
   "outputs": [],
   "source": []
  },
  {
   "cell_type": "code",
   "execution_count": null,
   "metadata": {},
   "outputs": [],
   "source": []
  },
  {
   "cell_type": "code",
   "execution_count": null,
   "metadata": {},
   "outputs": [],
   "source": []
  },
  {
   "cell_type": "code",
   "execution_count": null,
   "metadata": {},
   "outputs": [],
   "source": []
  },
  {
   "cell_type": "code",
   "execution_count": null,
   "metadata": {},
   "outputs": [],
   "source": []
  }
 ],
 "metadata": {
  "kernelspec": {
   "display_name": "Python 3",
   "language": "python",
   "name": "python3"
  },
  "language_info": {
   "codemirror_mode": {
    "name": "ipython",
    "version": 3
   },
   "file_extension": ".py",
   "mimetype": "text/x-python",
   "name": "python",
   "nbconvert_exporter": "python",
   "pygments_lexer": "ipython3",
   "version": "3.8.5"
  }
 },
 "nbformat": 4,
 "nbformat_minor": 4
}
