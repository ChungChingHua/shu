{
 "cells": [
  {
   "cell_type": "code",
   "execution_count": 1,
   "metadata": {},
   "outputs": [
    {
     "name": "stdout",
     "output_type": "stream",
     "text": [
      "learning python is fun\n",
      "learning python is fun\n",
      "learning python is fun\n",
      "learning python is fun\n",
      "learning python is fun\n",
      "learning python is fun\n",
      "learning python is fun\n",
      "learning python is fun\n",
      "learning python is fun\n",
      "learning python is fun\n",
      "learning python is fun\n",
      "learning python is fun\n",
      "learning python is fun\n",
      "learning python is fun\n",
      "learning python is fun\n",
      "learning python is fun\n",
      "learning python is fun\n",
      "learning python is fun\n",
      "learning python is fun\n",
      "learning python is fun\n",
      "learning python is fun\n",
      "learning python is fun\n",
      "learning python is fun\n",
      "learning python is fun\n",
      "learning python is fun\n",
      "learning python is fun\n",
      "learning python is fun\n",
      "learning python is fun\n",
      "learning python is fun\n",
      "learning python is fun\n",
      "learning python is fun\n",
      "learning python is fun\n",
      "learning python is fun\n",
      "learning python is fun\n",
      "learning python is fun\n",
      "learning python is fun\n",
      "learning python is fun\n",
      "learning python is fun\n",
      "learning python is fun\n",
      "learning python is fun\n",
      "learning python is fun\n",
      "learning python is fun\n",
      "learning python is fun\n",
      "learning python is fun\n",
      "learning python is fun\n",
      "learning python is fun\n",
      "learning python is fun\n",
      "learning python is fun\n",
      "learning python is fun\n",
      "learning python is fun\n",
      "learning python is fun\n",
      "learning python is fun\n",
      "learning python is fun\n",
      "learning python is fun\n",
      "learning python is fun\n",
      "learning python is fun\n",
      "learning python is fun\n",
      "learning python is fun\n",
      "learning python is fun\n",
      "learning python is fun\n",
      "learning python is fun\n",
      "learning python is fun\n",
      "learning python is fun\n",
      "learning python is fun\n",
      "learning python is fun\n",
      "learning python is fun\n",
      "learning python is fun\n",
      "learning python is fun\n",
      "learning python is fun\n",
      "learning python is fun\n",
      "learning python is fun\n",
      "learning python is fun\n",
      "learning python is fun\n",
      "learning python is fun\n",
      "learning python is fun\n",
      "learning python is fun\n",
      "learning python is fun\n",
      "learning python is fun\n",
      "learning python is fun\n",
      "learning python is fun\n",
      "learning python is fun\n",
      "learning python is fun\n",
      "learning python is fun\n",
      "learning python is fun\n",
      "learning python is fun\n",
      "learning python is fun\n",
      "learning python is fun\n",
      "learning python is fun\n",
      "learning python is fun\n",
      "learning python is fun\n",
      "learning python is fun\n",
      "learning python is fun\n",
      "learning python is fun\n",
      "learning python is fun\n",
      "learning python is fun\n",
      "learning python is fun\n",
      "learning python is fun\n",
      "learning python is fun\n",
      "learning python is fun\n",
      "learning python is fun\n"
     ]
    }
   ],
   "source": [
    "count=1\n",
    "while count<=100:\n",
    "    print('learning python is fun')\n",
    "    count=count+1"
   ]
  },
  {
   "cell_type": "code",
   "execution_count": 2,
   "metadata": {},
   "outputs": [
    {
     "name": "stdout",
     "output_type": "stream",
     "text": [
      "1+2+3+...+100= 5050\n"
     ]
    }
   ],
   "source": [
    "total=0\n",
    "k=1\n",
    "while k<=100:\n",
    "    total=total+k\n",
    "    k=k+1\n",
    "print('1+2+3+...+100=',total)"
   ]
  },
  {
   "cell_type": "code",
   "execution_count": 3,
   "metadata": {},
   "outputs": [
    {
     "name": "stdout",
     "output_type": "stream",
     "text": [
      "2+4+6+...+100= 2550\n"
     ]
    }
   ],
   "source": [
    "et=0\n",
    "k=2\n",
    "while k<=100:\n",
    "    et=et+k\n",
    "    k=k+2\n",
    "print('2+4+6+...+100=',et)"
   ]
  },
  {
   "cell_type": "code",
   "execution_count": 4,
   "metadata": {},
   "outputs": [
    {
     "name": "stdout",
     "output_type": "stream",
     "text": [
      "1\n",
      "2\n",
      "3\n",
      "4\n",
      "5\n"
     ]
    }
   ],
   "source": [
    "for k in range(1,6):\n",
    "    print(k)"
   ]
  },
  {
   "cell_type": "code",
   "execution_count": 5,
   "metadata": {},
   "outputs": [
    {
     "name": "stdout",
     "output_type": "stream",
     "text": [
      "0\n",
      "1\n",
      "2\n",
      "3\n",
      "4\n",
      "5\n"
     ]
    }
   ],
   "source": [
    "for k in range(6):\n",
    "    print(k)"
   ]
  },
  {
   "cell_type": "code",
   "execution_count": 6,
   "metadata": {},
   "outputs": [
    {
     "name": "stdout",
     "output_type": "stream",
     "text": [
      "1\n",
      "3\n",
      "5\n",
      "7\n",
      "9\n"
     ]
    }
   ],
   "source": [
    "for k in range(1,10,2):\n",
    "    print(k)"
   ]
  },
  {
   "cell_type": "code",
   "execution_count": 7,
   "metadata": {},
   "outputs": [
    {
     "name": "stdout",
     "output_type": "stream",
     "text": [
      "10\n",
      "9\n",
      "8\n",
      "7\n",
      "6\n",
      "5\n",
      "4\n",
      "3\n",
      "2\n"
     ]
    }
   ],
   "source": [
    "for k in range(10,1,-1):\n",
    "    print(k)"
   ]
  },
  {
   "cell_type": "code",
   "execution_count": 8,
   "metadata": {},
   "outputs": [
    {
     "name": "stdout",
     "output_type": "stream",
     "text": [
      "10\n",
      "8\n",
      "6\n",
      "4\n",
      "2\n"
     ]
    }
   ],
   "source": [
    "for k in range(10,1,-2):\n",
    "    print(k)"
   ]
  },
  {
   "cell_type": "code",
   "execution_count": 9,
   "metadata": {},
   "outputs": [
    {
     "name": "stdout",
     "output_type": "stream",
     "text": [
      "learning python is fun!\n",
      "learning python is fun!\n",
      "learning python is fun!\n",
      "learning python is fun!\n",
      "learning python is fun!\n",
      "learning python is fun!\n",
      "learning python is fun!\n",
      "learning python is fun!\n",
      "learning python is fun!\n",
      "learning python is fun!\n",
      "learning python is fun!\n",
      "learning python is fun!\n",
      "learning python is fun!\n",
      "learning python is fun!\n",
      "learning python is fun!\n",
      "learning python is fun!\n",
      "learning python is fun!\n",
      "learning python is fun!\n",
      "learning python is fun!\n",
      "learning python is fun!\n",
      "learning python is fun!\n",
      "learning python is fun!\n",
      "learning python is fun!\n",
      "learning python is fun!\n",
      "learning python is fun!\n",
      "learning python is fun!\n",
      "learning python is fun!\n",
      "learning python is fun!\n",
      "learning python is fun!\n",
      "learning python is fun!\n",
      "learning python is fun!\n",
      "learning python is fun!\n",
      "learning python is fun!\n",
      "learning python is fun!\n",
      "learning python is fun!\n",
      "learning python is fun!\n",
      "learning python is fun!\n",
      "learning python is fun!\n",
      "learning python is fun!\n",
      "learning python is fun!\n",
      "learning python is fun!\n",
      "learning python is fun!\n",
      "learning python is fun!\n",
      "learning python is fun!\n",
      "learning python is fun!\n",
      "learning python is fun!\n",
      "learning python is fun!\n",
      "learning python is fun!\n",
      "learning python is fun!\n",
      "learning python is fun!\n",
      "learning python is fun!\n",
      "learning python is fun!\n",
      "learning python is fun!\n",
      "learning python is fun!\n",
      "learning python is fun!\n",
      "learning python is fun!\n",
      "learning python is fun!\n",
      "learning python is fun!\n",
      "learning python is fun!\n",
      "learning python is fun!\n",
      "learning python is fun!\n",
      "learning python is fun!\n",
      "learning python is fun!\n",
      "learning python is fun!\n",
      "learning python is fun!\n",
      "learning python is fun!\n",
      "learning python is fun!\n",
      "learning python is fun!\n",
      "learning python is fun!\n",
      "learning python is fun!\n",
      "learning python is fun!\n",
      "learning python is fun!\n",
      "learning python is fun!\n",
      "learning python is fun!\n",
      "learning python is fun!\n",
      "learning python is fun!\n",
      "learning python is fun!\n",
      "learning python is fun!\n",
      "learning python is fun!\n",
      "learning python is fun!\n",
      "learning python is fun!\n",
      "learning python is fun!\n",
      "learning python is fun!\n",
      "learning python is fun!\n",
      "learning python is fun!\n",
      "learning python is fun!\n",
      "learning python is fun!\n",
      "learning python is fun!\n",
      "learning python is fun!\n",
      "learning python is fun!\n",
      "learning python is fun!\n",
      "learning python is fun!\n",
      "learning python is fun!\n",
      "learning python is fun!\n",
      "learning python is fun!\n",
      "learning python is fun!\n",
      "learning python is fun!\n",
      "learning python is fun!\n",
      "learning python is fun!\n",
      "learning python is fun!\n"
     ]
    }
   ],
   "source": [
    "for k in range(1,101):\n",
    "    print('learning python is fun!')"
   ]
  },
  {
   "cell_type": "code",
   "execution_count": 10,
   "metadata": {},
   "outputs": [
    {
     "name": "stdout",
     "output_type": "stream",
     "text": [
      "1 + 2 + 3 + ... + 100 =  1\n",
      "1 + 2 + 3 + ... + 100 =  3\n",
      "1 + 2 + 3 + ... + 100 =  6\n",
      "1 + 2 + 3 + ... + 100 =  10\n",
      "1 + 2 + 3 + ... + 100 =  15\n",
      "1 + 2 + 3 + ... + 100 =  21\n",
      "1 + 2 + 3 + ... + 100 =  28\n",
      "1 + 2 + 3 + ... + 100 =  36\n",
      "1 + 2 + 3 + ... + 100 =  45\n",
      "1 + 2 + 3 + ... + 100 =  55\n",
      "1 + 2 + 3 + ... + 100 =  66\n",
      "1 + 2 + 3 + ... + 100 =  78\n",
      "1 + 2 + 3 + ... + 100 =  91\n",
      "1 + 2 + 3 + ... + 100 =  105\n",
      "1 + 2 + 3 + ... + 100 =  120\n",
      "1 + 2 + 3 + ... + 100 =  136\n",
      "1 + 2 + 3 + ... + 100 =  153\n",
      "1 + 2 + 3 + ... + 100 =  171\n",
      "1 + 2 + 3 + ... + 100 =  190\n",
      "1 + 2 + 3 + ... + 100 =  210\n",
      "1 + 2 + 3 + ... + 100 =  231\n",
      "1 + 2 + 3 + ... + 100 =  253\n",
      "1 + 2 + 3 + ... + 100 =  276\n",
      "1 + 2 + 3 + ... + 100 =  300\n",
      "1 + 2 + 3 + ... + 100 =  325\n",
      "1 + 2 + 3 + ... + 100 =  351\n",
      "1 + 2 + 3 + ... + 100 =  378\n",
      "1 + 2 + 3 + ... + 100 =  406\n",
      "1 + 2 + 3 + ... + 100 =  435\n",
      "1 + 2 + 3 + ... + 100 =  465\n",
      "1 + 2 + 3 + ... + 100 =  496\n",
      "1 + 2 + 3 + ... + 100 =  528\n",
      "1 + 2 + 3 + ... + 100 =  561\n",
      "1 + 2 + 3 + ... + 100 =  595\n",
      "1 + 2 + 3 + ... + 100 =  630\n",
      "1 + 2 + 3 + ... + 100 =  666\n",
      "1 + 2 + 3 + ... + 100 =  703\n",
      "1 + 2 + 3 + ... + 100 =  741\n",
      "1 + 2 + 3 + ... + 100 =  780\n",
      "1 + 2 + 3 + ... + 100 =  820\n",
      "1 + 2 + 3 + ... + 100 =  861\n",
      "1 + 2 + 3 + ... + 100 =  903\n",
      "1 + 2 + 3 + ... + 100 =  946\n",
      "1 + 2 + 3 + ... + 100 =  990\n",
      "1 + 2 + 3 + ... + 100 =  1035\n",
      "1 + 2 + 3 + ... + 100 =  1081\n",
      "1 + 2 + 3 + ... + 100 =  1128\n",
      "1 + 2 + 3 + ... + 100 =  1176\n",
      "1 + 2 + 3 + ... + 100 =  1225\n",
      "1 + 2 + 3 + ... + 100 =  1275\n",
      "1 + 2 + 3 + ... + 100 =  1326\n",
      "1 + 2 + 3 + ... + 100 =  1378\n",
      "1 + 2 + 3 + ... + 100 =  1431\n",
      "1 + 2 + 3 + ... + 100 =  1485\n",
      "1 + 2 + 3 + ... + 100 =  1540\n",
      "1 + 2 + 3 + ... + 100 =  1596\n",
      "1 + 2 + 3 + ... + 100 =  1653\n",
      "1 + 2 + 3 + ... + 100 =  1711\n",
      "1 + 2 + 3 + ... + 100 =  1770\n",
      "1 + 2 + 3 + ... + 100 =  1830\n",
      "1 + 2 + 3 + ... + 100 =  1891\n",
      "1 + 2 + 3 + ... + 100 =  1953\n",
      "1 + 2 + 3 + ... + 100 =  2016\n",
      "1 + 2 + 3 + ... + 100 =  2080\n",
      "1 + 2 + 3 + ... + 100 =  2145\n",
      "1 + 2 + 3 + ... + 100 =  2211\n",
      "1 + 2 + 3 + ... + 100 =  2278\n",
      "1 + 2 + 3 + ... + 100 =  2346\n",
      "1 + 2 + 3 + ... + 100 =  2415\n",
      "1 + 2 + 3 + ... + 100 =  2485\n",
      "1 + 2 + 3 + ... + 100 =  2556\n",
      "1 + 2 + 3 + ... + 100 =  2628\n",
      "1 + 2 + 3 + ... + 100 =  2701\n",
      "1 + 2 + 3 + ... + 100 =  2775\n",
      "1 + 2 + 3 + ... + 100 =  2850\n",
      "1 + 2 + 3 + ... + 100 =  2926\n",
      "1 + 2 + 3 + ... + 100 =  3003\n",
      "1 + 2 + 3 + ... + 100 =  3081\n",
      "1 + 2 + 3 + ... + 100 =  3160\n",
      "1 + 2 + 3 + ... + 100 =  3240\n",
      "1 + 2 + 3 + ... + 100 =  3321\n",
      "1 + 2 + 3 + ... + 100 =  3403\n",
      "1 + 2 + 3 + ... + 100 =  3486\n",
      "1 + 2 + 3 + ... + 100 =  3570\n",
      "1 + 2 + 3 + ... + 100 =  3655\n",
      "1 + 2 + 3 + ... + 100 =  3741\n",
      "1 + 2 + 3 + ... + 100 =  3828\n",
      "1 + 2 + 3 + ... + 100 =  3916\n",
      "1 + 2 + 3 + ... + 100 =  4005\n",
      "1 + 2 + 3 + ... + 100 =  4095\n",
      "1 + 2 + 3 + ... + 100 =  4186\n",
      "1 + 2 + 3 + ... + 100 =  4278\n",
      "1 + 2 + 3 + ... + 100 =  4371\n",
      "1 + 2 + 3 + ... + 100 =  4465\n",
      "1 + 2 + 3 + ... + 100 =  4560\n",
      "1 + 2 + 3 + ... + 100 =  4656\n",
      "1 + 2 + 3 + ... + 100 =  4753\n",
      "1 + 2 + 3 + ... + 100 =  4851\n",
      "1 + 2 + 3 + ... + 100 =  4950\n",
      "1 + 2 + 3 + ... + 100 =  5050\n"
     ]
    }
   ],
   "source": [
    "total = 0\n",
    "for i in range(1, 101): \n",
    "    total += i \n",
    "    print('1 + 2 + 3 + ... + 100 = ', total)"
   ]
  },
  {
   "cell_type": "code",
   "execution_count": 11,
   "metadata": {},
   "outputs": [
    {
     "name": "stdout",
     "output_type": "stream",
     "text": [
      "2 + 4 + 6 + ... + 100 =  2550\n"
     ]
    }
   ],
   "source": [
    "total = 0 \n",
    "for i in range(2, 101, 2):\n",
    "        total += i\n",
    "print('2 + 4 + 6 + ... + 100 = ', total)"
   ]
  },
  {
   "cell_type": "code",
   "execution_count": 12,
   "metadata": {},
   "outputs": [
    {
     "name": "stdout",
     "output_type": "stream",
     "text": [
      "The number is 14\n",
      "Total is 105\n"
     ]
    }
   ],
   "source": [
    "total = 0 \n",
    "number = 0 \n",
    "while True: \n",
    "    number += 1\n",
    "    total += number\n",
    "    if total >= 100: \n",
    "        break\n",
    "print('The number is', number) \n",
    "print('Total is', total) "
   ]
  },
  {
   "cell_type": "code",
   "execution_count": 13,
   "metadata": {},
   "outputs": [
    {
     "name": "stdout",
     "output_type": "stream",
     "text": [
      "The number is 64\n",
      "Total is 1056\n"
     ]
    }
   ],
   "source": [
    "total=0\n",
    "number=0 \n",
    "while True:\n",
    "    number +=2\n",
    "    total +=number \n",
    "    if total >=1000:\n",
    "        break\n",
    "print('The number is', number) \n",
    "print('Total is', total)"
   ]
  },
  {
   "cell_type": "code",
   "execution_count": 14,
   "metadata": {},
   "outputs": [
    {
     "name": "stdout",
     "output_type": "stream",
     "text": [
      "the total is 4000\n"
     ]
    }
   ],
   "source": [
    "total = 0 \n",
    "number = 1\n",
    "while number <= 100: \n",
    "    if number % 5 == 0:\n",
    "        number += 1\n",
    "        continue\n",
    "    total += number \n",
    "    number += 1\n",
    "print('the total is', total)"
   ]
  },
  {
   "cell_type": "code",
   "execution_count": 15,
   "metadata": {},
   "outputs": [
    {
     "name": "stdout",
     "output_type": "stream",
     "text": [
      "the total is 1050\n"
     ]
    }
   ],
   "source": [
    "total = 0 \n",
    "number = 0 \n",
    "while number <= 100: \n",
    "    number += 1 \n",
    "    if number % 5 != 0: \n",
    "        continue \n",
    "    total += number \n",
    "print('the total is', total)"
   ]
  },
  {
   "cell_type": "code",
   "execution_count": 16,
   "metadata": {},
   "outputs": [
    {
     "name": "stdout",
     "output_type": "stream",
     "text": [
      "the total is 10\n"
     ]
    }
   ],
   "source": [
    "total = 0\n",
    "number = 0 \n",
    "while number <= 100: \n",
    "    number += 1 \n",
    "    if number % 5==0:\n",
    "        break \n",
    "    total += number\n",
    "print('the total is', total)\n"
   ]
  },
  {
   "cell_type": "code",
   "execution_count": 17,
   "metadata": {},
   "outputs": [
    {
     "name": "stdout",
     "output_type": "stream",
     "text": [
      "1 + 3 + 5 + ... +99 =  2500\n"
     ]
    }
   ],
   "source": [
    "oddTotal = 0 \n",
    "k = 1 \n",
    "while k <= 100:\n",
    "    oddTotal+= k \n",
    "    k = k + 2 \n",
    "print('1 + 3 + 5 + ... +99 = ', oddTotal)"
   ]
  },
  {
   "cell_type": "code",
   "execution_count": 18,
   "metadata": {},
   "outputs": [
    {
     "name": "stdout",
     "output_type": "stream",
     "text": [
      "i =  1\n",
      " j = 1\n",
      " j = 2\n",
      " j = 3\n",
      " j = 4\n",
      " j = 5\n",
      " j = 6\n",
      " j = 7\n",
      " j = 8\n",
      " j = 9\n",
      "\n",
      "i =  2\n",
      " j = 1\n",
      " j = 2\n",
      " j = 3\n",
      " j = 4\n",
      " j = 5\n",
      " j = 6\n",
      " j = 7\n",
      " j = 8\n",
      " j = 9\n",
      "\n",
      "i =  3\n",
      " j = 1\n",
      " j = 2\n",
      " j = 3\n",
      " j = 4\n",
      " j = 5\n",
      " j = 6\n",
      " j = 7\n",
      " j = 8\n",
      " j = 9\n",
      "\n",
      "i =  4\n",
      " j = 1\n",
      " j = 2\n",
      " j = 3\n",
      " j = 4\n",
      " j = 5\n",
      " j = 6\n",
      " j = 7\n",
      " j = 8\n",
      " j = 9\n",
      "\n",
      "i =  5\n",
      " j = 1\n",
      " j = 2\n",
      " j = 3\n",
      " j = 4\n",
      " j = 5\n",
      " j = 6\n",
      " j = 7\n",
      " j = 8\n",
      " j = 9\n",
      "\n",
      "i =  6\n",
      " j = 1\n",
      " j = 2\n",
      " j = 3\n",
      " j = 4\n",
      " j = 5\n",
      " j = 6\n",
      " j = 7\n",
      " j = 8\n",
      " j = 9\n",
      "\n",
      "i =  7\n",
      " j = 1\n",
      " j = 2\n",
      " j = 3\n",
      " j = 4\n",
      " j = 5\n",
      " j = 6\n",
      " j = 7\n",
      " j = 8\n",
      " j = 9\n",
      "\n",
      "i =  8\n",
      " j = 1\n",
      " j = 2\n",
      " j = 3\n",
      " j = 4\n",
      " j = 5\n",
      " j = 6\n",
      " j = 7\n",
      " j = 8\n",
      " j = 9\n",
      "\n",
      "i =  9\n",
      " j = 1\n",
      " j = 2\n",
      " j = 3\n",
      " j = 4\n",
      " j = 5\n",
      " j = 6\n",
      " j = 7\n",
      " j = 8\n",
      " j = 9\n",
      "\n"
     ]
    }
   ],
   "source": [
    "for i in range(1, 10):\n",
    "    print('i = ', i) \n",
    "    for j in range(1, 10): \n",
    "        print(' j =', j) \n",
    "    print('')\n"
   ]
  },
  {
   "cell_type": "code",
   "execution_count": 19,
   "metadata": {},
   "outputs": [
    {
     "name": "stdout",
     "output_type": "stream",
     "text": [
      "10*20=200\n"
     ]
    }
   ],
   "source": [
    "i = 10\n",
    "j = 20\n",
    "\n",
    "print('%d*%d=%3d'%(i,j,i*j))"
   ]
  },
  {
   "cell_type": "code",
   "execution_count": 20,
   "metadata": {},
   "outputs": [
    {
     "name": "stdout",
     "output_type": "stream",
     "text": [
      "1*1= 1\n",
      "1*2= 2\n",
      "1*3= 3\n",
      "1*4= 4\n",
      "1*5= 5\n",
      "1*6= 6\n",
      "1*7= 7\n",
      "1*8= 8\n",
      "1*9= 9\n",
      "2*1= 2\n",
      "2*2= 4\n",
      "2*3= 6\n",
      "2*4= 8\n",
      "2*5=10\n",
      "2*6=12\n",
      "2*7=14\n",
      "2*8=16\n",
      "2*9=18\n",
      "3*1= 3\n",
      "3*2= 6\n",
      "3*3= 9\n",
      "3*4=12\n",
      "3*5=15\n",
      "3*6=18\n",
      "3*7=21\n",
      "3*8=24\n",
      "3*9=27\n",
      "4*1= 4\n",
      "4*2= 8\n",
      "4*3=12\n",
      "4*4=16\n",
      "4*5=20\n",
      "4*6=24\n",
      "4*7=28\n",
      "4*8=32\n",
      "4*9=36\n",
      "5*1= 5\n",
      "5*2=10\n",
      "5*3=15\n",
      "5*4=20\n",
      "5*5=25\n",
      "5*6=30\n",
      "5*7=35\n",
      "5*8=40\n",
      "5*9=45\n",
      "6*1= 6\n",
      "6*2=12\n",
      "6*3=18\n",
      "6*4=24\n",
      "6*5=30\n",
      "6*6=36\n",
      "6*7=42\n",
      "6*8=48\n",
      "6*9=54\n",
      "7*1= 7\n",
      "7*2=14\n",
      "7*3=21\n",
      "7*4=28\n",
      "7*5=35\n",
      "7*6=42\n",
      "7*7=49\n",
      "7*8=56\n",
      "7*9=63\n",
      "8*1= 8\n",
      "8*2=16\n",
      "8*3=24\n",
      "8*4=32\n",
      "8*5=40\n",
      "8*6=48\n",
      "8*7=56\n",
      "8*8=64\n",
      "8*9=72\n",
      "9*1= 9\n",
      "9*2=18\n",
      "9*3=27\n",
      "9*4=36\n",
      "9*5=45\n",
      "9*6=54\n",
      "9*7=63\n",
      "9*8=72\n",
      "9*9=81\n"
     ]
    }
   ],
   "source": [
    "for i in range (1, 10):\n",
    "    for j in range (1, 10):\n",
    "        print('%d*%d=%2d'%(i,j,i*j))"
   ]
  },
  {
   "cell_type": "code",
   "execution_count": 21,
   "metadata": {},
   "outputs": [
    {
     "name": "stdout",
     "output_type": "stream",
     "text": [
      "1*1= 1 \n",
      "2*1= 2 \n",
      "3*1= 3 \n",
      "4*1= 4 \n",
      "5*1= 5 \n",
      "6*1= 6 \n",
      "7*1= 7 \n",
      "8*1= 8 \n",
      "9*1= 9 \n",
      "1*2= 2 \n",
      "2*2= 4 \n",
      "3*2= 6 \n",
      "4*2= 8 \n",
      "5*2=10 \n",
      "6*2=12 \n",
      "7*2=14 \n",
      "8*2=16 \n",
      "9*2=18 \n",
      "1*3= 3 \n",
      "2*3= 6 \n",
      "3*3= 9 \n",
      "4*3=12 \n",
      "5*3=15 \n",
      "6*3=18 \n",
      "7*3=21 \n",
      "8*3=24 \n",
      "9*3=27 \n",
      "1*4= 4 \n",
      "2*4= 8 \n",
      "3*4=12 \n",
      "4*4=16 \n",
      "5*4=20 \n",
      "6*4=24 \n",
      "7*4=28 \n",
      "8*4=32 \n",
      "9*4=36 \n",
      "1*5= 5 \n",
      "2*5=10 \n",
      "3*5=15 \n",
      "4*5=20 \n",
      "5*5=25 \n",
      "6*5=30 \n",
      "7*5=35 \n",
      "8*5=40 \n",
      "9*5=45 \n",
      "1*6= 6 \n",
      "2*6=12 \n",
      "3*6=18 \n",
      "4*6=24 \n",
      "5*6=30 \n",
      "6*6=36 \n",
      "7*6=42 \n",
      "8*6=48 \n",
      "9*6=54 \n",
      "1*7= 7 \n",
      "2*7=14 \n",
      "3*7=21 \n",
      "4*7=28 \n",
      "5*7=35 \n",
      "6*7=42 \n",
      "7*7=49 \n",
      "8*7=56 \n",
      "9*7=63 \n",
      "1*8= 8 \n",
      "2*8=16 \n",
      "3*8=24 \n",
      "4*8=32 \n",
      "5*8=40 \n",
      "6*8=48 \n",
      "7*8=56 \n",
      "8*8=64 \n",
      "9*8=72 \n",
      "1*9= 9 \n",
      "2*9=18 \n",
      "3*9=27 \n",
      "4*9=36 \n",
      "5*9=45 \n",
      "6*9=54 \n",
      "7*9=63 \n",
      "8*9=72 \n",
      "9*9=81 \n"
     ]
    }
   ],
   "source": [
    "for i in range(1, 10):\n",
    "    for j in range(1, 10): \n",
    "        print('%d*%d=%2d '%(j, i, i*j), end ='') \n",
    "        print()"
   ]
  },
  {
   "cell_type": "code",
   "execution_count": 22,
   "metadata": {},
   "outputs": [
    {
     "name": "stdout",
     "output_type": "stream",
     "text": [
      "1*1= 1 2*1= 2 3*1= 3 4*1= 4 5*1= 5 6*1= 6 7*1= 7 8*1= 8 9*1= 9 \n",
      "1*2= 2 2*2= 4 3*2= 6 4*2= 8 5*2=10 6*2=12 7*2=14 8*2=16 9*2=18 \n",
      "1*3= 3 2*3= 6 3*3= 9 4*3=12 5*3=15 6*3=18 7*3=21 8*3=24 9*3=27 \n",
      "1*4= 4 2*4= 8 3*4=12 4*4=16 5*4=20 6*4=24 7*4=28 8*4=32 9*4=36 \n",
      "1*5= 5 2*5=10 3*5=15 4*5=20 5*5=25 6*5=30 7*5=35 8*5=40 9*5=45 \n",
      "1*6= 6 2*6=12 3*6=18 4*6=24 5*6=30 6*6=36 7*6=42 8*6=48 9*6=54 \n",
      "1*7= 7 2*7=14 3*7=21 4*7=28 5*7=35 6*7=42 7*7=49 8*7=56 9*7=63 \n",
      "1*8= 8 2*8=16 3*8=24 4*8=32 5*8=40 6*8=48 7*8=56 8*8=64 9*8=72 \n",
      "1*9= 9 2*9=18 3*9=27 4*9=36 5*9=45 6*9=54 7*9=63 8*9=72 9*9=81 \n"
     ]
    }
   ],
   "source": [
    "for i in range(1, 10):\n",
    "    for j in range(1, 10): \n",
    "        print('%d*%d=%2d '%(j, i, i*j), end ='') \n",
    "    print()"
   ]
  },
  {
   "cell_type": "code",
   "execution_count": 23,
   "metadata": {},
   "outputs": [
    {
     "name": "stdout",
     "output_type": "stream",
     "text": [
      "1*1= 1 2*1= 2 3*1= 3 4*1= 4 5*1= 5 6*1= 6 7*1= 7 8*1= 8 9*1= 9 \n",
      "1*2= 2 2*2= 4 3*2= 6 4*2= 8 5*2=10 6*2=12 7*2=14 8*2=16 9*2=18 \n",
      "1*3= 3 2*3= 6 3*3= 9 4*3=12 5*3=15 6*3=18 7*3=21 8*3=24 9*3=27 \n",
      "1*4= 4 2*4= 8 3*4=12 4*4=16 5*4=20 6*4=24 7*4=28 8*4=32 9*4=36 \n",
      "1*5= 5 2*5=10 3*5=15 4*5=20 5*5=25 6*5=30 7*5=35 8*5=40 9*5=45 \n",
      "1*6= 6 2*6=12 3*6=18 4*6=24 5*6=30 6*6=36 7*6=42 8*6=48 9*6=54 \n",
      "1*7= 7 2*7=14 3*7=21 4*7=28 5*7=35 6*7=42 7*7=49 8*7=56 9*7=63 \n",
      "1*8= 8 2*8=16 3*8=24 4*8=32 5*8=40 6*8=48 7*8=56 8*8=64 9*8=72 \n",
      "1*9= 9 2*9=18 3*9=27 4*9=36 5*9=45 6*9=54 7*9=63 8*9=72 9*9=81 \n"
     ]
    }
   ],
   "source": [
    "for i in range(1, 10):\n",
    "    for j in range(1, 10): \n",
    "        print('%d*%d=%2d '%(j,i,i*j), end ='') \n",
    "    print()"
   ]
  },
  {
   "cell_type": "code",
   "execution_count": 24,
   "metadata": {},
   "outputs": [
    {
     "data": {
      "text/plain": [
       "0.8115196442933349"
      ]
     },
     "execution_count": 24,
     "metadata": {},
     "output_type": "execute_result"
    }
   ],
   "source": [
    "import random \n",
    "random.random()\n"
   ]
  },
  {
   "cell_type": "code",
   "execution_count": 25,
   "metadata": {},
   "outputs": [
    {
     "data": {
      "text/plain": [
       "0.7130148713561755"
      ]
     },
     "execution_count": 25,
     "metadata": {},
     "output_type": "execute_result"
    }
   ],
   "source": [
    "random.random() \n"
   ]
  },
  {
   "cell_type": "code",
   "execution_count": 26,
   "metadata": {},
   "outputs": [
    {
     "data": {
      "text/plain": [
       "10"
      ]
     },
     "execution_count": 26,
     "metadata": {},
     "output_type": "execute_result"
    }
   ],
   "source": [
    "random.randint(1, 49) \n"
   ]
  },
  {
   "cell_type": "code",
   "execution_count": 27,
   "metadata": {},
   "outputs": [
    {
     "data": {
      "text/plain": [
       "22"
      ]
     },
     "execution_count": 27,
     "metadata": {},
     "output_type": "execute_result"
    }
   ],
   "source": [
    "random.randint(1, 38)"
   ]
  },
  {
   "cell_type": "code",
   "execution_count": 28,
   "metadata": {},
   "outputs": [
    {
     "name": "stdout",
     "output_type": "stream",
     "text": [
      "11 94 15 50 70 85 91 74 5 84 30 79 66 13 94 10 85 40 25 90 29 78 83 63 42 6 34 64 45 43 41 89 18 86 31 6 34 80 98 46 3 74 56 79 90 30 41 69 73 3 7 98 9 55 4 88 75 24 18 67 91 86 71 69 31 55 76 80 62 49 18 54 59 84 92 30 22 92 66 82 3 90 72 93 76 72 58 96 72 65 10 11 9 55 69 42 54 23 90 77 "
     ]
    }
   ],
   "source": [
    "import random\n",
    "for i in range(1, 101): \n",
    "    randomNumber = random.randint(1, 100) \n",
    "    print(randomNumber, end = ' ')"
   ]
  },
  {
   "cell_type": "code",
   "execution_count": 29,
   "metadata": {},
   "outputs": [
    {
     "name": "stdout",
     "output_type": "stream",
     "text": [
      "8244737777891851418020670506354285676996123819895432242667898574419326325938645248718798928446221234517679498418038891541007627134689248579905044274241248174887209046670169391913395100941001552\n",
      "Even number:  62 \n",
      "Odd number:  38\n"
     ]
    }
   ],
   "source": [
    "import random \n",
    "evenCount = 0 \n",
    "oddCount = 0\n",
    "for i in range(1, 101):\n",
    "    randomNumber = random.randint(1, 100) \n",
    "    print(randomNumber, end = '') \n",
    "    if randomNumber % 2 == 0:\n",
    "        evenCount += 1 \n",
    "oddCount = 100-evenCount\n",
    "print('\\nEven number: ', evenCount, '\\nOdd number: ', oddCount)"
   ]
  },
  {
   "cell_type": "code",
   "execution_count": 30,
   "metadata": {},
   "outputs": [
    {
     "name": "stdout",
     "output_type": "stream",
     "text": [
      "   32    85     1    71    89    24    53    75    85    84\n",
      "   88    48    48    56     8    53    69    28    88    63\n",
      "   76    73    48     2    12    76    74     5    53     9\n",
      "   77    15     1     9    18    76     2    52    97    74\n",
      "   36     9    91    42    61    38    68    97    17    10\n",
      "   55    55    70    92    95    10    50     6    65     9\n",
      "   20    93    83    73    84    72    45    88    31    38\n",
      "   57    44    39    25    23    26    32    68    13    26\n",
      "   66    15    67    61    82    64    90    40    71    20\n",
      "   86    76    66    78    68    47    12    25    66    25\n",
      "\n",
      "Even number:  54 \n",
      "Odd number:  46\n"
     ]
    }
   ],
   "source": [
    "import random \n",
    "evenCount = 0  \n",
    "junopppo=0 \n",
    "for i in range(1, 101):\n",
    "    randomNumber = random.randint(1, 100) \n",
    "    if i % 10 == 0: \n",
    "        print('%5d'%(randomNumber)) \n",
    "    else:\n",
    "        print('%5d'%(randomNumber), end = ' ') \n",
    "    if randomNumber % 2 == 0:\n",
    "        evenCount += 1\n",
    "oddCount = 100 - evenCount\n",
    "print('\\nEven number: ', evenCount, '\\nOdd number: ', oddCount)"
   ]
  },
  {
   "cell_type": "code",
   "execution_count": 31,
   "metadata": {},
   "outputs": [
    {
     "name": "stdout",
     "output_type": "stream",
     "text": [
      "Please input an integer: 2\n",
      "2 is prime number\n"
     ]
    }
   ],
   "source": [
    "number = eval(input('Please input an integer: ')) \n",
    "divisor = 2\n",
    "flag = 1\n",
    "while divisor < number: \n",
    "    if number % divisor == 0:\n",
    "        # If true, number is not prime number \n",
    "        flag=0\n",
    "        break \n",
    "    divisor += 1 \n",
    "if flag==0: \n",
    "    print(number, 'is not prime number')\n",
    "else:\n",
    "    print(number, 'is prime number')"
   ]
  },
  {
   "cell_type": "code",
   "execution_count": 32,
   "metadata": {},
   "outputs": [
    {
     "name": "stdout",
     "output_type": "stream",
     "text": [
      "Please input an integer: 2\n",
      "2 is prime number\n"
     ]
    }
   ],
   "source": [
    "number = eval(input('Please input an integer: ')) \n",
    "divisor = 2\n",
    "flag = 1\n",
    "while divisor <= number/2: \n",
    "    if number % divisor == 0:\n",
    "        # If true, number is not prime number \n",
    "        flag=0\n",
    "        break \n",
    "    divisor += 1 \n",
    "if flag==0: \n",
    "    print(number, 'is not prime number')\n",
    "else:\n",
    "    print(number, 'is prime number')"
   ]
  },
  {
   "cell_type": "code",
   "execution_count": 33,
   "metadata": {},
   "outputs": [
    {
     "name": "stdout",
     "output_type": "stream",
     "text": [
      "2 3 5 7 11 13 17 19 23 29 31 37 41 43 47 53 59 61 67 71 73 79 83 89 97 101 103 107 109 113 127 131 137 139 149 151 157 163 167 173 179 181 191 193 197 199 211 223 227 229 233 239 241 251 257 263 269 271 277 281 283 293 307 311 313 317 331 337 347 349 353 359 367 373 379 383 389 397 401 409 419 421 431 433 439 443 449 457 461 463 467 479 487 491 499 503 509 521 523 541 547 557 563 569 571 577 587 593 599 601 607 613 617 619 631 641 643 647 653 659 661 673 677 683 691 701 709 719 727 733 739 743 751 757 761 769 773 787 797 809 811 821 823 827 829 839 853 857 859 863 877 881 883 887 907 911 919 929 937 941 947 953 967 971 977 983 991 997 "
     ]
    }
   ],
   "source": [
    "for number in range(2, 1001):\n",
    "    divisor = 2 \n",
    "    flag = 1 \n",
    "    while divisor <= number / 2: \n",
    "        if number % divisor == 0:\n",
    "            flag=0 \n",
    "            break \n",
    "        divisor += 1 \n",
    "    if flag == 1: \n",
    "        print(number, end = ' ')"
   ]
  },
  {
   "cell_type": "code",
   "execution_count": 34,
   "metadata": {},
   "outputs": [
    {
     "name": "stdout",
     "output_type": "stream",
     "text": [
      "Please input an integer:125\n",
      "Please input an integer:2525\n",
      "The GCD for 125 and 2525 is 25\n"
     ]
    }
   ],
   "source": [
    "number1 = eval(input('Please input an integer:'))\n",
    "number2 = eval(input('Please input an integer:')) \n",
    "gcd = 1\n",
    "k =2\n",
    "while k <= number1 and k <= number2: \n",
    "    if number1 % k == 0 and number2 % k == 0:\n",
    "        gcd = k \n",
    "    k+= 1 \n",
    "print('The GCD for', number1, 'and', number2, 'is', gcd)"
   ]
  },
  {
   "cell_type": "code",
   "execution_count": 41,
   "metadata": {},
   "outputs": [
    {
     "name": "stdout",
     "output_type": "stream",
     "text": [
      "Please input an numerator1:1\n",
      "Please input an denominator1:2\n",
      "Please input an numerator2:1\n",
      "Please input an denominator2:6\n",
      "The GCD for 8 and 12 is 4\n",
      "1/2 + 1/6 = 2/3\n"
     ]
    }
   ],
   "source": [
    "numerator1 = eval(input('Please input an numerator1:'))\n",
    "denominator1 = eval(input('Please input an denominator1:'))\n",
    "numerator2 = eval(input('Please input an numerator2:')) \n",
    "denominator2 = eval(input('Please input an denominator2:'))\n",
    "number1 = numerator1*denominator2 + numerator2*denominator1 \n",
    "number2 = denominator1*denominator2 \n",
    "gcd = 1\n",
    "k =2 \n",
    "while k <= number1 and k <= number2:\n",
    "    if number1 % k == 0 and number2 % k == 0: \n",
    "        gcd = k \n",
    "    k += 1 \n",
    "print('The GCD for', number1, 'and', number2, 'is', gcd) \n",
    "print('%d/%d + %d/%d = '%(numerator1, denominator1, numerator2, denominator2), end='')\n",
    "print('%d/%d'%(number1/gcd, number2/gcd))"
   ]
  },
  {
   "cell_type": "code",
   "execution_count": 52,
   "metadata": {},
   "outputs": [
    {
     "name": "stdout",
     "output_type": "stream",
     "text": [
      "13 4 2 28 13 14 "
     ]
    }
   ],
   "source": [
    "import random\n",
    "for i in range(1,7):\n",
    "    k=random.randint(1,49)\n",
    "    print(k,end=' ')"
   ]
  },
  {
   "cell_type": "code",
   "execution_count": null,
   "metadata": {},
   "outputs": [],
   "source": []
  },
  {
   "cell_type": "code",
   "execution_count": null,
   "metadata": {},
   "outputs": [],
   "source": []
  }
 ],
 "metadata": {
  "kernelspec": {
   "display_name": "Python 3",
   "language": "python",
   "name": "python3"
  },
  "language_info": {
   "codemirror_mode": {
    "name": "ipython",
    "version": 3
   },
   "file_extension": ".py",
   "mimetype": "text/x-python",
   "name": "python",
   "nbconvert_exporter": "python",
   "pygments_lexer": "ipython3",
   "version": "3.8.5"
  }
 },
 "nbformat": 4,
 "nbformat_minor": 4
}
