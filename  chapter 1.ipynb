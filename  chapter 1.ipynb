{
 "cells": [
  {
   "cell_type": "code",
   "execution_count": 1,
   "metadata": {},
   "outputs": [
    {
     "name": "stdout",
     "output_type": "stream",
     "text": [
      "leaarning python now\n"
     ]
    }
   ],
   "source": [
    "print('leaarning python now')"
   ]
  },
  {
   "cell_type": "code",
   "execution_count": 2,
   "metadata": {},
   "outputs": [
    {
     "name": "stdout",
     "output_type": "stream",
     "text": [
      "python is fun\n"
     ]
    }
   ],
   "source": [
    "print('python is fun')"
   ]
  },
  {
   "cell_type": "code",
   "execution_count": 3,
   "metadata": {},
   "outputs": [
    {
     "name": "stdout",
     "output_type": "stream",
     "text": [
      "fahreheit 80 is clsius degree\n",
      "12.444444444444443\n"
     ]
    }
   ],
   "source": [
    "print('fahreheit 80 is clsius degree')\n",
    "print(5/9*80-32)"
   ]
  },
  {
   "cell_type": "code",
   "execution_count": 4,
   "metadata": {},
   "outputs": [
    {
     "name": "stdout",
     "output_type": "stream",
     "text": [
      "mile 96 is kilmeter\n",
      "153.60000000000002\n"
     ]
    }
   ],
   "source": [
    "print('mile 96 is kilmeter')\n",
    "print(96*1.6)"
   ]
  },
  {
   "cell_type": "code",
   "execution_count": 5,
   "metadata": {},
   "outputs": [
    {
     "name": "stdout",
     "output_type": "stream",
     "text": [
      "37.77777777777778\n"
     ]
    }
   ],
   "source": [
    "print((100-32)*5/9)"
   ]
  },
  {
   "cell_type": "code",
   "execution_count": 6,
   "metadata": {},
   "outputs": [
    {
     "name": "stdout",
     "output_type": "stream",
     "text": [
      "27.45\n"
     ]
    }
   ],
   "source": [
    "print(90*30.5/100)"
   ]
  },
  {
   "cell_type": "code",
   "execution_count": 7,
   "metadata": {},
   "outputs": [
    {
     "name": "stdout",
     "output_type": "stream",
     "text": [
      "hello,python\n",
      "hello,python\n",
      "hello,python\n"
     ]
    }
   ],
   "source": [
    "print('hello,python')\n",
    "print('hello,python')\n",
    "print('hello,python')"
   ]
  },
  {
   "cell_type": "code",
   "execution_count": 8,
   "metadata": {},
   "outputs": [
    {
     "name": "stdout",
     "output_type": "stream",
     "text": [
      "hello,python\n",
      "hello,python\n",
      "hello,python\n"
     ]
    }
   ],
   "source": [
    "print('hello,python')\n",
    "print('hello,python')\n",
    "print('hello,python');"
   ]
  },
  {
   "cell_type": "code",
   "execution_count": 9,
   "metadata": {},
   "outputs": [
    {
     "name": "stdout",
     "output_type": "stream",
     "text": [
      "fahrenheit 212 is ceisius degree\n",
      "85.77777777777779\n"
     ]
    }
   ],
   "source": [
    "#convert fahrenheit to ceisius\n",
    "print('fahrenheit 212 is ceisius degree')\n",
    "print(5/9*212-32)"
   ]
  },
  {
   "cell_type": "code",
   "execution_count": 10,
   "metadata": {
    "scrolled": true
   },
   "outputs": [
    {
     "name": "stdout",
     "output_type": "stream",
     "text": [
      "learning python now!\n",
      "pythin is fun\n",
      "python is good progreammig is language\n"
     ]
    }
   ],
   "source": [
    "print('learning python now!')\n",
    "print('pythin is fun')\n",
    "print('python is good progreammig is language')"
   ]
  },
  {
   "cell_type": "code",
   "execution_count": 11,
   "metadata": {},
   "outputs": [
    {
     "name": "stdout",
     "output_type": "stream",
     "text": [
      "pthon is fun\n",
      "learning pythin now!\n"
     ]
    }
   ],
   "source": [
    "'我的第一個python程式'\n",
    "print('pthon is fun')\n",
    "print('learning pythin now!')"
   ]
  }
 ],
 "metadata": {
  "kernelspec": {
   "display_name": "Python 3",
   "language": "python",
   "name": "python3"
  },
  "language_info": {
   "codemirror_mode": {
    "name": "ipython",
    "version": 3
   },
   "file_extension": ".py",
   "mimetype": "text/x-python",
   "name": "python",
   "nbconvert_exporter": "python",
   "pygments_lexer": "ipython3",
   "version": "3.8.5"
  }
 },
 "nbformat": 4,
 "nbformat_minor": 4
}
